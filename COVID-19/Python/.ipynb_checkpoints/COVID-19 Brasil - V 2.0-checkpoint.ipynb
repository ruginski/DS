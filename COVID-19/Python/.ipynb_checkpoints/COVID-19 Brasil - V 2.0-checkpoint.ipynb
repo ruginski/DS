{
 "cells": [
  {
   "cell_type": "code",
   "execution_count": null,
   "metadata": {},
   "outputs": [],
   "source": [
    "import pandas as pd"
   ]
  },
  {
   "cell_type": "code",
   "execution_count": null,
   "metadata": {},
   "outputs": [],
   "source": [
    "file = 'PATH TO THE FILE /Data/DT_PAINEL_COVIDBR.xlsx'\n",
    "df_brasil = pd.read_excel(file, sheet_name=0 ,parse_dates=['data'])"
   ]
  },
  {
   "cell_type": "code",
   "execution_count": null,
   "metadata": {},
   "outputs": [],
   "source": [
    "df_brasil.info()"
   ]
  },
  {
   "cell_type": "markdown",
   "metadata": {},
   "source": [
    "Quick ETL on df_brasil"
   ]
  },
  {
   "cell_type": "code",
   "execution_count": null,
   "metadata": {},
   "outputs": [],
   "source": [
    "#Fixing invalid characters on populacaoTCU2019\n",
    "df_brasil['populacaoTCU2019'].replace(regex = {'\\(.*$': '', '\\s.*$': ''}, inplace=True)\n",
    "df_brasil['populacaoTCU2019'].replace(to_replace='10.139', value='10139', inplace=True)\n",
    "\n",
    "#Converting populacaoTCU2019 back to numeric\n",
    "df_brasil['populacaoTCU2019'] = pd.to_numeric(df_brasil['populacaoTCU2019'])\n",
    "#df_brasil['populacaoTCU2019'] = df_brasil['populacaoTCU2019'].astype('int32')\n",
    "\n",
    "# Preenchendo missing values \n",
    "df_brasil[['regiao', 'estado', 'municipio', 'nomeRegiaoSaude']] = df_brasil[['regiao', 'estado', 'municipio', 'nomeRegiaoSaude']].fillna('')\n",
    "df_brasil[['coduf', 'codmun', 'codRegiaoSaude', 'semanaEpi', 'populacaoTCU2019', 'casosAcumulado', 'casosNovos', 'obitosAcumulado', 'obitosNovos', 'Recuperadosnovos', 'emAcompanhamentoNovos']] = df_brasil[['coduf', 'codmun', 'codRegiaoSaude', 'semanaEpi', 'populacaoTCU2019', 'casosAcumulado', 'casosNovos', 'obitosAcumulado', 'obitosNovos', 'Recuperadosnovos', 'emAcompanhamentoNovos']].fillna(0)"
   ]
  },
  {
   "cell_type": "code",
   "execution_count": null,
   "metadata": {},
   "outputs": [],
   "source": [
    "df_brasil.data.describe()"
   ]
  },
  {
   "cell_type": "markdown",
   "metadata": {},
   "source": [
    "Working with Paraná data"
   ]
  },
  {
   "cell_type": "code",
   "execution_count": null,
   "metadata": {},
   "outputs": [],
   "source": [
    "#Creating a new dataset with the data from Paraná only\n",
    "df_PR = df_brasil[df_brasil['estado']==\"PR\"]\n",
    "\n",
    "#Grouping by data and city\n",
    "df_PR = df_PR.groupby(['data', 'municipio']).sum().reset_index().sort_values('data', ascending=True)\n",
    "\n",
    "#Dropping unused columns\n",
    "df_PR.drop(['coduf', 'codmun', 'codRegiaoSaude'], axis=1, inplace=True)\n",
    "\n",
    "#Dropping lines where city is empty. They used to be the State before grouping.\n",
    "df_PR = df_PR[df_PR.municipio != ''].reset_index(drop=True)"
   ]
  },
  {
   "cell_type": "code",
   "execution_count": null,
   "metadata": {},
   "outputs": [],
   "source": [
    "df_PR.info()"
   ]
  },
  {
   "cell_type": "code",
   "execution_count": null,
   "metadata": {},
   "outputs": [],
   "source": [
    "df_PR.describe()"
   ]
  },
  {
   "cell_type": "code",
   "execution_count": null,
   "metadata": {},
   "outputs": [],
   "source": [
    "df_PR.head()"
   ]
  },
  {
   "cell_type": "code",
   "execution_count": null,
   "metadata": {},
   "outputs": [],
   "source": [
    "#Getting geo location for Paraná\n",
    "coordenadas_PR = pd.read_csv('F:/OneDrive/Learning/DataScience/Projects/COVID-19/Data/Coordenadas-Municípios.csv', sep=',')"
   ]
  },
  {
   "cell_type": "code",
   "execution_count": null,
   "metadata": {},
   "outputs": [],
   "source": [
    "coordenadas_PR = coordenadas_PR[coordenadas_PR['codigo_uf']==41].reset_index(drop=True)"
   ]
  },
  {
   "cell_type": "code",
   "execution_count": null,
   "metadata": {},
   "outputs": [],
   "source": [
    "#Dropping unused columns\n",
    "coordenadas_PR.drop(['capital', 'codigo_uf', 'codigo_ibge'], axis=1, inplace=True)"
   ]
  },
  {
   "cell_type": "code",
   "execution_count": null,
   "metadata": {},
   "outputs": [],
   "source": [
    "coordenadas_PR.info()"
   ]
  },
  {
   "cell_type": "code",
   "execution_count": null,
   "metadata": {},
   "outputs": [],
   "source": [
    "coordenadas_PR.head()"
   ]
  },
  {
   "cell_type": "code",
   "execution_count": null,
   "metadata": {},
   "outputs": [],
   "source": [
    "#Merging coordenadas_PR with df_PR\n",
    "df_PR = pd.merge(coordenadas_PR, df_PR, left_on='nome', right_on='municipio', how='outer')"
   ]
  },
  {
   "cell_type": "code",
   "execution_count": null,
   "metadata": {},
   "outputs": [],
   "source": [
    "df_PR.info()"
   ]
  },
  {
   "cell_type": "code",
   "execution_count": null,
   "metadata": {},
   "outputs": [],
   "source": [
    "# Preenchendo missing values \n",
    "df_PR[['nome', 'municipio']] = df_PR[['nome', 'municipio']].fillna('')\n",
    "df_PR[['latitude','longitude','data','semanaEpi','populacaoTCU2019','casosAcumulado','casosNovos','obitosAcumulado','obitosNovos','Recuperadosnovos','emAcompanhamentoNovos']] = df_PR[['latitude','longitude','data','semanaEpi','populacaoTCU2019','casosAcumulado','casosNovos','obitosAcumulado','obitosNovos','Recuperadosnovos','emAcompanhamentoNovos']].fillna(0)"
   ]
  },
  {
   "cell_type": "code",
   "execution_count": null,
   "metadata": {},
   "outputs": [],
   "source": [
    "#Dropping lines where city is empty. They used to be the State before grouping.\n",
    "df_PR = df_PR[df_PR.municipio != '']\n",
    "df_PR.drop(['municipio'], axis = 1, inplace = True)"
   ]
  },
  {
   "cell_type": "code",
   "execution_count": null,
   "metadata": {},
   "outputs": [],
   "source": [
    "#Formating back column 'data' as date\n",
    "df_PR['data'] = pd.to_datetime(df_PR['data'])"
   ]
  },
  {
   "cell_type": "code",
   "execution_count": null,
   "metadata": {},
   "outputs": [],
   "source": [
    "#Criando coluna com casos / 100k habitantes para cada município\n",
    "df_PR['CasosProporcional100k'] = df_PR['casosAcumulado'] / df_PR['populacaoTCU2019'] * 100000\n",
    "df_PR['ObitosProporcional100k'] = df_PR['obitosAcumulado'] / df_PR['populacaoTCU2019'] * 100000"
   ]
  },
  {
   "cell_type": "code",
   "execution_count": null,
   "metadata": {},
   "outputs": [],
   "source": [
    "df_PR.head()"
   ]
  },
  {
   "cell_type": "code",
   "execution_count": null,
   "metadata": {},
   "outputs": [],
   "source": [
    "# Obtem os dados do último dia da base de dados\n",
    "df_PR_lastday = df_PR[df_PR['data'] == max(df_PR['data'])]"
   ]
  },
  {
   "cell_type": "code",
   "execution_count": null,
   "metadata": {},
   "outputs": [],
   "source": [
    "df_PR_TopCasos100k = df_PR[df_PR['data'] == max(df_PR['data'])].nlargest(10, 'CasosProporcional100k').reset_index(drop=True)\n",
    "df_PR_TopObitos100k = df_PR[df_PR['data'] == max(df_PR['data'])].nlargest(10, 'ObitosProporcional100k').reset_index(drop=True)"
   ]
  },
  {
   "cell_type": "code",
   "execution_count": null,
   "metadata": {},
   "outputs": [],
   "source": [
    "#plotly\n",
    "# habilita modo offline\n",
    "from plotly.offline import plot, iplot, init_notebook_mode\n",
    "init_notebook_mode(connected=True)\n",
    "\n",
    "# Definindo o renderizador:\n",
    "import plotly.io as pio\n",
    "pio.renderers\n",
    "pio.renderers.default = \"colab\"\n",
    "\n",
    "import plotly.express as px"
   ]
  },
  {
   "cell_type": "code",
   "execution_count": null,
   "metadata": {},
   "outputs": [],
   "source": [
    "fig = px.area(df_PR, \n",
    "              x=\"data\", \n",
    "              y=\"CasosProporcional100k\", \n",
    "              color='nome', \n",
    "              height=600,\n",
    "              title='Casos ao longo do tempo')\n",
    "              #color_discrete_sequence = [recuperados, mortes, ativos])\n",
    "fig.update_layout(xaxis_rangeslider_visible=True)\n",
    "fig.show('notebook')"
   ]
  },
  {
   "cell_type": "code",
   "execution_count": null,
   "metadata": {},
   "outputs": [],
   "source": [
    "import folium\n",
    "from folium import plugins\n",
    "from folium.plugins import HeatMap, HeatMapWithTime"
   ]
  },
  {
   "cell_type": "code",
   "execution_count": null,
   "metadata": {},
   "outputs": [],
   "source": [
    "FoliumMap = folium.Map(location=[-24.6969, -51.1633], tiles='OpenStreetMap',\n",
    "               min_zoom=5, max_zoom=15, zoom_start=7)\n",
    "\n",
    "for i in range(0, len(df_PR_lastday)):\n",
    "    folium.Circle(\n",
    "        location=[df_PR_lastday.iloc[i]['latitude'], df_PR_lastday.iloc[i]['longitude']],\n",
    "        color='crimson', fill='crimson',\n",
    "        tooltip =   '<li><bold>City : '+str(df_PR_lastday.iloc[i]['nome'])+\n",
    "                    '<li><bold>Confirmed : '+str(df_PR_lastday.iloc[i]['casosAcumulado'])+\n",
    "                    '<li><bold>Deaths : '+str(df_PR_lastday.iloc[i]['obitosAcumulado'])+\n",
    "                    '<li><bold>Proporcial 100k : '+str(df_PR_lastday.iloc[i]['CasosProporcional100k']),\n",
    "        radius=int(df_PR_lastday.iloc[i]['casosAcumulado'])**1.5).add_to(FoliumMap)\n",
    "FoliumMap"
   ]
  },
  {
   "cell_type": "code",
   "execution_count": null,
   "metadata": {},
   "outputs": [],
   "source": [
    "FoliumHM = folium.Map(location=[-24.6969, -51.1633], tiles='OpenStreetMap',\n",
    "               min_zoom=5, max_zoom=15, zoom_start=7)\n",
    "HeatMap(data=df_PR_lastday[['latitude', 'longitude', 'CasosProporcional100k']].groupby(['latitude', 'longitude']).sum().reset_index().values.tolist(), radius=int(df_PR_lastday.iloc[i]['CasosProporcional100k'])**0.6, max_zoom=13).add_to(FoliumHM)\n",
    "FoliumHM"
   ]
  },
  {
   "cell_type": "code",
   "execution_count": null,
   "metadata": {},
   "outputs": [],
   "source": [
    "# HeatMapWithTime(data=temp[['data', 'latitude', 'longitude', 'CasosProporcional100k']].groupby(['latitude', 'longitude']).sum().reset_index().values.tolist(), radius=int(temp.iloc[i]['CasosProporcional100k'])**0.6, gradient={0.2: 'blue', 0.4: 'lime', 0.6: 'orange', 1: 'red'}, min_opacity=0.5, max_opacity=0.8, use_local_extrema=True).add_to(m)\n",
    "# m"
   ]
  },
  {
   "cell_type": "code",
   "execution_count": null,
   "metadata": {},
   "outputs": [],
   "source": [
    "#Creating a new BR dataset with grouped data\n",
    "\n",
    "#Coping df_brasil to the new dataframe\n",
    "df_BRGrouped = df_brasil.copy()\n",
    "\n",
    "#Dropping unused columns\n",
    "df_BRGrouped.drop(['codmun', 'codRegiaoSaude', 'Recuperadosnovos', 'emAcompanhamentoNovos', 'coduf'], axis = 1, inplace=True)\n",
    "\n",
    "#Dropping lines where city is NOT empty, to keep just the data of the states\n",
    "df_BRGrouped = df_BRGrouped[df_BRGrouped.municipio == '']\n",
    "df_BRGrouped = df_BRGrouped[df_BRGrouped.estado != '']\n",
    "\n",
    "#Grouping by data and state\n",
    "df_BRGrouped = df_BRGrouped.groupby(['data', 'estado']).sum().reset_index().sort_values('data', ascending=True)\n",
    "df_BRGrouped = df_BRGrouped.reset_index(drop=True)"
   ]
  },
  {
   "cell_type": "code",
   "execution_count": null,
   "metadata": {},
   "outputs": [],
   "source": [
    "df_BRGrouped.info()"
   ]
  },
  {
   "cell_type": "code",
   "execution_count": null,
   "metadata": {},
   "outputs": [],
   "source": [
    "df_BRGrouped.head()"
   ]
  },
  {
   "cell_type": "code",
   "execution_count": null,
   "metadata": {},
   "outputs": [],
   "source": [
    "coordenadas_BR = pd.read_csv('F:/OneDrive/Learning/DataScience/Projects/COVID-19/Data/Coordenadas-Estados.csv', sep=';')"
   ]
  },
  {
   "cell_type": "code",
   "execution_count": null,
   "metadata": {},
   "outputs": [],
   "source": [
    "coordenadas_BR.drop(['codigo_uf', 'nome'], axis = 1, inplace = True)"
   ]
  },
  {
   "cell_type": "code",
   "execution_count": null,
   "metadata": {},
   "outputs": [],
   "source": [
    "df_BRGrouped = pd.merge(coordenadas_BR, df_BRGrouped, left_on='uf', right_on='estado', how='outer')"
   ]
  },
  {
   "cell_type": "code",
   "execution_count": null,
   "metadata": {},
   "outputs": [],
   "source": [
    "df_BRGrouped.drop(['estado', 'coduf'], axis = 1, inplace = True)"
   ]
  },
  {
   "cell_type": "code",
   "execution_count": null,
   "metadata": {},
   "outputs": [],
   "source": [
    "df_BRGrouped"
   ]
  },
  {
   "cell_type": "code",
   "execution_count": null,
   "metadata": {},
   "outputs": [],
   "source": [
    "# Obtem os dados do último dia da base de dados\n",
    "df_BRGrouped_lastday = df_BRGrouped[df_BRGrouped['data'] == max(df_BRGrouped['data'])].reset_index(drop=True)"
   ]
  },
  {
   "cell_type": "code",
   "execution_count": null,
   "metadata": {},
   "outputs": [],
   "source": [
    "df_BRGrouped_lastday"
   ]
  },
  {
   "cell_type": "code",
   "execution_count": null,
   "metadata": {},
   "outputs": [],
   "source": [
    "FoliumHM_BR = folium.Map(location=[-24.6969, -51.1633], tiles='OpenStreetMap',\n",
    "               min_zoom=3, max_zoom=15, zoom_start=4)\n",
    "HeatMap(data=df_BRGrouped_lastday[['latitude', 'longitude', 'casosAcumulado']].groupby(['latitude', 'longitude']).sum().reset_index().values.tolist(), radius=int(df_PR_lastday.iloc[i]['casosAcumulado'])**0.7, max_zoom=13).add_to(FoliumHM_BR)\n",
    "FoliumHM_BR"
   ]
  },
  {
   "cell_type": "code",
   "execution_count": null,
   "metadata": {},
   "outputs": [],
   "source": []
  }
 ],
 "metadata": {
  "kernelspec": {
   "display_name": "Python 3",
   "language": "python",
   "name": "python3"
  },
  "language_info": {
   "codemirror_mode": {
    "name": "ipython",
    "version": 3
   },
   "file_extension": ".py",
   "mimetype": "text/x-python",
   "name": "python",
   "nbconvert_exporter": "python",
   "pygments_lexer": "ipython3",
   "version": "3.7.6"
  }
 },
 "nbformat": 4,
 "nbformat_minor": 2
}
