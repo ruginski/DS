{
 "cells": [
  {
   "cell_type": "code",
   "execution_count": 1,
   "metadata": {
    "colab": {},
    "colab_type": "code",
    "executionInfo": {
     "elapsed": 1078,
     "status": "ok",
     "timestamp": 1594851121814,
     "user": {
      "displayName": "Tulio Philipe",
      "photoUrl": "https://lh3.googleusercontent.com/a-/AOh14GiC2kqFihAn3Ile03oz-6rO8qVjEHv1DhGQ0ngQ5g=s64",
      "userId": "06907869093485551957"
     },
     "user_tz": 180
    },
    "id": "SdVfUfG5LttK"
   },
   "outputs": [],
   "source": [
    "#importando os módulos\n",
    "import random  #módulo para valores aleatórios\n",
    "from lista_palavras import lista_palavras_forca  #\"módulo\" para as palavras da lista"
   ]
  },
  {
   "cell_type": "code",
   "execution_count": 2,
   "metadata": {
    "colab": {},
    "colab_type": "code",
    "executionInfo": {
     "elapsed": 1094,
     "status": "ok",
     "timestamp": 1594850657173,
     "user": {
      "displayName": "Tulio Philipe",
      "photoUrl": "https://lh3.googleusercontent.com/a-/AOh14GiC2kqFihAn3Ile03oz-6rO8qVjEHv1DhGQ0ngQ5g=s64",
      "userId": "06907869093485551957"
     },
     "user_tz": 180
    },
    "id": "YtkWvpEmO0Dd"
   },
   "outputs": [],
   "source": [
    "#função para escolher uma palavra da lista\n",
    "def escolhe_palavra():\n",
    "    palavra = random.choice(lista_palavras_forca)\n",
    "    return palavra.upper()"
   ]
  },
  {
   "cell_type": "code",
   "execution_count": 3,
   "metadata": {
    "colab": {
     "base_uri": "https://localhost:8080/",
     "height": 34
    },
    "colab_type": "code",
    "executionInfo": {
     "elapsed": 1143,
     "status": "ok",
     "timestamp": 1594850659733,
     "user": {
      "displayName": "Tulio Philipe",
      "photoUrl": "https://lh3.googleusercontent.com/a-/AOh14GiC2kqFihAn3Ile03oz-6rO8qVjEHv1DhGQ0ngQ5g=s64",
      "userId": "06907869093485551957"
     },
     "user_tz": 180
    },
    "id": "mtdGK9TZPTHV",
    "outputId": "28ffb139-cadc-4ff4-affe-ee7c45f30780"
   },
   "outputs": [
    {
     "name": "stdout",
     "output_type": "stream",
     "text": [
      "BOOTCAMP\n"
     ]
    }
   ],
   "source": [
    "print(escolhe_palavra())"
   ]
  },
  {
   "cell_type": "code",
   "execution_count": 4,
   "metadata": {
    "colab": {},
    "colab_type": "code",
    "executionInfo": {
     "elapsed": 898,
     "status": "ok",
     "timestamp": 1594850775627,
     "user": {
      "displayName": "Tulio Philipe",
      "photoUrl": "https://lh3.googleusercontent.com/a-/AOh14GiC2kqFihAn3Ile03oz-6rO8qVjEHv1DhGQ0ngQ5g=s64",
      "userId": "06907869093485551957"
     },
     "user_tz": 180
    },
    "id": "eG7DdtxoPHe0"
   },
   "outputs": [],
   "source": [
    "#função para jogar\n",
    "def jogar(palavra):\n",
    "    espacos = \"_\" * len(palavra)\n",
    "    acertou = False\n",
    "    guessed_letters = []\n",
    "    guessed_words = []\n",
    "    tentativas = 6\n",
    "    print(\"Vamos começar!\")\n",
    "    print(desenha_forca(tentativas))\n",
    "    print(espacos)\n",
    "    print(\"\\n\")\n",
    "    while not acertou and tentativas > 0:\n",
    "        chute = input(\"Por favor, entre com uma letra ou palavra: \").upper()\n",
    "        if len(chute) == 1 and chute.isalpha():\n",
    "            if chute in guessed_letters:\n",
    "                print(\"Essa letra já apareceu aqui :\", chute)\n",
    "            elif chute not in palavra:\n",
    "                print(chute, \" não está na palavra.\")\n",
    "                tentativas -= 1\n",
    "                guessed_letters.append(chute)\n",
    "            else:\n",
    "                print(\"Isso aí,\", chute, \" pertence à palavra!\")\n",
    "                guessed_letters.append(chute)\n",
    "                word_as_list = list(espacos)\n",
    "                indices = [i for i, letra in enumerate(palavra) if letra == chute]\n",
    "                for index in indices:\n",
    "                    word_as_list[index] = chute\n",
    "                espacos = \"\".join(word_as_list)\n",
    "                if \"_\" not in espacos:\n",
    "                    acertou = True\n",
    "        elif len(chute) == len(palavra) and chute.isalpha():\n",
    "            if chute in guessed_words:\n",
    "                print(\"Você já chutou essa letra: \", chute)\n",
    "            elif chute != palavra:\n",
    "                print(chute, \": não está na palavra.\")\n",
    "                tentativas -= 1\n",
    "                guessed_words.append(chute)\n",
    "            else:\n",
    "                acertou = True\n",
    "                espacos = palavra\n",
    "        else:\n",
    "            print(\"Chute errado.\")\n",
    "        print(desenha_forca(tentativas))\n",
    "        print(espacos)\n",
    "        print(\"\\n\")\n",
    "    if acertou:\n",
    "        print(\"Parabéns!! Você é fera !!\")\n",
    "    else:\n",
    "        print(\"Nossa, que pena!! Você errou a palavra: \" + palavra + \". Tente outra vez!\")\n"
   ]
  },
  {
   "cell_type": "code",
   "execution_count": 5,
   "metadata": {
    "colab": {},
    "colab_type": "code",
    "executionInfo": {
     "elapsed": 981,
     "status": "ok",
     "timestamp": 1594850668038,
     "user": {
      "displayName": "Tulio Philipe",
      "photoUrl": "https://lh3.googleusercontent.com/a-/AOh14GiC2kqFihAn3Ile03oz-6rO8qVjEHv1DhGQ0ngQ5g=s64",
      "userId": "06907869093485551957"
     },
     "user_tz": 180
    },
    "id": "GHmzBEN-OZR3"
   },
   "outputs": [],
   "source": [
    "#função para desenhar o usuario sendo \"enforcado\"\n",
    "def desenha_forca(tentativa):\n",
    "    progresso = [  # cabeça, pescoço, braços e 1 pernas\n",
    "                \"\"\"\n",
    "                   --------\n",
    "                   |      |\n",
    "                   |      O\n",
    "                   |     \\\\|/\n",
    "                   |      |\n",
    "                   |     / \\\\\n",
    "                   -\n",
    "                \"\"\",\n",
    "                # cabeça, pescoço, braços e 1 perna\n",
    "                \"\"\"\n",
    "                   --------\n",
    "                   |      |\n",
    "                   |      O\n",
    "                   |     \\\\|/\n",
    "                   |      |\n",
    "                   |     / \n",
    "                   -\n",
    "                \"\"\",\n",
    "                # cabeça, pescoço e braços\n",
    "                \"\"\"\n",
    "                   --------\n",
    "                   |      |\n",
    "                   |      O\n",
    "                   |     \\\\|/\n",
    "                   |      |\n",
    "                   |      \n",
    "                   -\n",
    "                \"\"\",\n",
    "                # cabeça, pescoço e braços\n",
    "                \"\"\"\n",
    "                   --------\n",
    "                   |      |\n",
    "                   |      O\n",
    "                   |     \\\\|\n",
    "                   |      |\n",
    "                   |     \n",
    "                   -\n",
    "                \"\"\",\n",
    "                # babeça e pescoço\n",
    "                \"\"\"\n",
    "                   --------\n",
    "                   |      |\n",
    "                   |      O\n",
    "                   |      |\n",
    "                   |      |\n",
    "                   |     \n",
    "                   -\n",
    "                \"\"\",\n",
    "                # cabeça\n",
    "                \"\"\"\n",
    "                   --------\n",
    "                   |      |\n",
    "                   |      O\n",
    "                   |    \n",
    "                   |      \n",
    "                   |     \n",
    "                   -\n",
    "                \"\"\",\n",
    "                # forca inicial\n",
    "                \"\"\"\n",
    "                   --------\n",
    "                   |      |\n",
    "                   |      \n",
    "                   |    \n",
    "                   |      \n",
    "                   |     \n",
    "                   -\n",
    "                \"\"\"\n",
    "    ]\n",
    "    return progresso[tentativa]"
   ]
  },
  {
   "cell_type": "code",
   "execution_count": null,
   "metadata": {
    "colab": {
     "base_uri": "https://localhost:8080/",
     "height": 975
    },
    "colab_type": "code",
    "executionInfo": {
     "elapsed": 14800,
     "status": "error",
     "timestamp": 1594851111031,
     "user": {
      "displayName": "Tulio Philipe",
      "photoUrl": "https://lh3.googleusercontent.com/a-/AOh14GiC2kqFihAn3Ile03oz-6rO8qVjEHv1DhGQ0ngQ5g=s64",
      "userId": "06907869093485551957"
     },
     "user_tz": 180
    },
    "id": "2_Hp3pQwOlnj",
    "outputId": "ddd4afdb-4f00-41ac-823f-3c8669149910"
   },
   "outputs": [],
   "source": [
    "def main():\n",
    "    palavra = escolhe_palavra()\n",
    "    jogar(palavra)\n",
    "    while input(\"Deseja Jogar Novamente? (S/N) \").upper() == \"S\":\n",
    "        palavra = escolhe_palavra()\n",
    "        jogar(palavra)\n",
    "\n",
    "\n",
    "if __name__ == \"__main__\":\n",
    "    main()"
   ]
  },
  {
   "cell_type": "code",
   "execution_count": null,
   "metadata": {},
   "outputs": [],
   "source": []
  }
 ],
 "metadata": {
  "colab": {
   "authorship_tag": "ABX9TyOiPKb2APx/bfDUFX16/LIi",
   "collapsed_sections": [],
   "name": "forca_aula_1.ipynb",
   "provenance": []
  },
  "kernelspec": {
   "display_name": "Python 3",
   "language": "python",
   "name": "python3"
  },
  "language_info": {
   "codemirror_mode": {
    "name": "ipython",
    "version": 3
   },
   "file_extension": ".py",
   "mimetype": "text/x-python",
   "name": "python",
   "nbconvert_exporter": "python",
   "pygments_lexer": "ipython3",
   "version": "3.8.3"
  }
 },
 "nbformat": 4,
 "nbformat_minor": 1
}
