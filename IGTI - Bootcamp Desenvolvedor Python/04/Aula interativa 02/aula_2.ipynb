{
 "cells": [
  {
   "cell_type": "code",
   "execution_count": 1,
   "metadata": {
    "colab": {
     "base_uri": "https://localhost:8080/",
     "height": 123
    },
    "colab_type": "code",
    "executionInfo": {
     "elapsed": 4806,
     "status": "ok",
     "timestamp": 1598912623423,
     "user": {
      "displayName": "Tulio Philipe",
      "photoUrl": "https://lh3.googleusercontent.com/a-/AOh14GiC2kqFihAn3Ile03oz-6rO8qVjEHv1DhGQ0ngQ5g=s64",
      "userId": "06907869093485551957"
     },
     "user_tz": 180
    },
    "id": "hkJTeawLnaX-",
    "outputId": "fedc1239-bf70-4733-ffb6-f1128c6960c1"
   },
   "outputs": [
    {
     "name": "stdout",
     "output_type": "stream",
     "text": [
      "Collecting rx\n",
      "  Using cached Rx-3.1.1-py3-none-any.whl (197 kB)\n",
      "Installing collected packages: rx\n",
      "Successfully installed rx-3.1.1\n"
     ]
    }
   ],
   "source": [
    "#instalando o rx para o google colab\n",
    "!pip install rx"
   ]
  },
  {
   "cell_type": "code",
   "execution_count": 2,
   "metadata": {
    "colab": {
     "base_uri": "https://localhost:8080/",
     "height": 103
    },
    "colab_type": "code",
    "executionInfo": {
     "elapsed": 595,
     "status": "ok",
     "timestamp": 1598915467073,
     "user": {
      "displayName": "Tulio Philipe",
      "photoUrl": "https://lh3.googleusercontent.com/a-/AOh14GiC2kqFihAn3Ile03oz-6rO8qVjEHv1DhGQ0ngQ5g=s64",
      "userId": "06907869093485551957"
     },
     "user_tz": 180
    },
    "id": "Pueo66-bngdF",
    "outputId": "a8e4612f-02ec-4cd7-827c-8873a8cdad0a"
   },
   "outputs": [
    {
     "name": "stdout",
     "output_type": "stream",
     "text": [
      "on_next: 0\n",
      "on_error: unsupported operand type(s) for -: 'str' and 'int'\n",
      "Fim\n"
     ]
    }
   ],
   "source": [
    "#programação reativa\n",
    "import rx\n",
    "import rx.operators as ops\n",
    "\n",
    "#source = rx.from_iterable([1,2,3,4,5])\n",
    "source = rx.from_iterable([1,2,'abc',4,5])\n",
    "\n",
    "disposable=source.pipe(\n",
    "    ops.map(lambda i:i-1),\n",
    "    ops.filter(lambda i:i%2==0),\n",
    ").subscribe(\n",
    "    on_next=lambda i: print(\"on_next: {}\".format(i)),\n",
    "    on_completed=lambda: print(\"on_completed\"),\n",
    "    on_error=lambda e:print(\"on_error: {}\".format(e))\n",
    ")\n",
    "\n",
    "disposable.dispose()\n",
    "\n",
    "print(\"Fim\")"
   ]
  },
  {
   "cell_type": "code",
   "execution_count": null,
   "metadata": {},
   "outputs": [],
   "source": []
  }
 ],
 "metadata": {
  "colab": {
   "authorship_tag": "ABX9TyPfl/JedvHE+sTnGf6xMpmI",
   "name": "aula_2.ipynb",
   "provenance": []
  },
  "kernelspec": {
   "display_name": "Python 3",
   "language": "python",
   "name": "python3"
  },
  "language_info": {
   "codemirror_mode": {
    "name": "ipython",
    "version": 3
   },
   "file_extension": ".py",
   "mimetype": "text/x-python",
   "name": "python",
   "nbconvert_exporter": "python",
   "pygments_lexer": "ipython3",
   "version": "3.8.3"
  }
 },
 "nbformat": 4,
 "nbformat_minor": 4
}
