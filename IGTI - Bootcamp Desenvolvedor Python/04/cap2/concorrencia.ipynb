{
 "cells": [
  {
   "cell_type": "code",
   "execution_count": null,
   "metadata": {
    "colab": {},
    "colab_type": "code",
    "id": "58OiOlTxMvwh"
   },
   "outputs": [],
   "source": [
    "#concorrência - Códigos adaptados de [FORBES, Elliot. Learning Concurrency in Python: Build highly efficient, robust, and concurrent applications. 2017.]"
   ]
  },
  {
   "cell_type": "code",
   "execution_count": null,
   "metadata": {
    "colab": {
     "base_uri": "https://localhost:8080/",
     "height": 34
    },
    "colab_type": "code",
    "executionInfo": {
     "elapsed": 955,
     "status": "ok",
     "timestamp": 1597495270821,
     "user": {
      "displayName": "Tulio Philipe",
      "photoUrl": "https://lh3.googleusercontent.com/a-/AOh14GiC2kqFihAn3Ile03oz-6rO8qVjEHv1DhGQ0ngQ5g=s64",
      "userId": "06907869093485551957"
     },
     "user_tz": 180
    },
    "id": "e1YSKJBIjvwL",
    "outputId": "29836548-ac45-4d4e-9ad2-18fabe20d2cd"
   },
   "outputs": [],
   "source": [
    "#identificando a quantidade de núcleos disponíveis para o sistema\n",
    "import multiprocessing\n",
    "multiprocessing.cpu_count() #conta a quantidade de núcleos disponíveis no sistema "
   ]
  },
  {
   "cell_type": "code",
   "execution_count": null,
   "metadata": {
    "colab": {
     "base_uri": "https://localhost:8080/",
     "height": 204
    },
    "colab_type": "code",
    "executionInfo": {
     "elapsed": 13610,
     "status": "ok",
     "timestamp": 1597495628883,
     "user": {
      "displayName": "Tulio Philipe",
      "photoUrl": "https://lh3.googleusercontent.com/a-/AOh14GiC2kqFihAn3Ile03oz-6rO8qVjEHv1DhGQ0ngQ5g=s64",
      "userId": "06907869093485551957"
     },
     "user_tz": 180
    },
    "id": "9QLPusRsmAvV",
    "outputId": "96d182f6-68c1-455a-9aa6-8f496e595681"
   },
   "outputs": [],
   "source": [
    "#processamento sequencial\n",
    "import threading  #módulo para a construção de threads\n",
    "import urllib.request  #módulo para a requisição de url\n",
    "import time  #módulo para tratar tempo\n",
    "\n",
    "#função criada para a realização do download das imagens\n",
    "def downloadImagens(imagePath, fileName):\n",
    "  print(\"Realizando o download .... \", imagePath)\n",
    "  urllib.request.urlretrieve(imagePath, fileName)  #realiza a requisição para a página da web\n",
    "\n",
    "\n",
    "t0 = time.time() #armazena o tempo inicial de execução\n",
    "for i in range(10):\n",
    "    #imageName = \"imagens/image-\" + str(i) + \".jpg\"  #coloca o nome em cada uma das imagens baixadas\n",
    "    imageName = str(i)  #coloca o nome em cada uma das imagens baixadas\n",
    "    downloadImagens(\"http://lorempixel.com/400/200/sports\", imageName)  #aplica o download da imagem\n",
    "  \n",
    "t1 = time.time() #tempo final após a execução\n",
    "totalTime = t1 - t0  #diferença de tempo entre o valor inical de execução e o final\n",
    "print(\"Tempo toal de execução {}\".format(totalTime))"
   ]
  },
  {
   "cell_type": "code",
   "execution_count": null,
   "metadata": {
    "colab": {
     "base_uri": "https://localhost:8080/",
     "height": 374
    },
    "colab_type": "code",
    "executionInfo": {
     "elapsed": 2094,
     "status": "ok",
     "timestamp": 1597495930593,
     "user": {
      "displayName": "Tulio Philipe",
      "photoUrl": "https://lh3.googleusercontent.com/a-/AOh14GiC2kqFihAn3Ile03oz-6rO8qVjEHv1DhGQ0ngQ5g=s64",
      "userId": "06907869093485551957"
     },
     "user_tz": 180
    },
    "id": "nZEnC-NFo1Nf",
    "outputId": "130f39c0-e51f-4194-ceae-814601ddc636"
   },
   "outputs": [],
   "source": [
    "#exedcução do download de imagens via multiplas threads\n",
    "import threading\n",
    "import urllib.request\n",
    "import time\n",
    "\n",
    "def downloadImagens(imagePath, fileName):\n",
    "  print(\"Realizando o download .... \", imagePath)\n",
    "  urllib.request.urlretrieve(imagePath, fileName)\n",
    "  print(\"Download Finalizado\")\n",
    "\n",
    "def executeThread(i): \n",
    "  imageName = str(i)  #coloca o nome em cada uma das imagens baixadas\n",
    "  downloadImagens(\"http://lorempixel.com/400/200/sports\", imageName)\n",
    "\n",
    "\n",
    "t0 = time.time()\n",
    "\n",
    "threads = [] #lista vazia que vai conter todas as threads criadas\n",
    "\n",
    "#cria das 10 threads, cada uma delas será responsável por realizar o download\n",
    "for i in range(10):\n",
    "  thread = threading.Thread(target=executeThread, args=(i,))\n",
    "  threads.append(thread)\n",
    "  thread.start()\n",
    "  \n",
    "#garante que as execuções foram finalizadas\n",
    "for i in threads:\n",
    "  i.join()\n",
    "\n",
    "#calcula o tempo de execução\n",
    "t1 = time.time()\n",
    "totalTime = t1 - t0\n",
    "print(\"Tempo total de execução {}\".format(totalTime))"
   ]
  },
  {
   "cell_type": "markdown",
   "metadata": {
    "colab_type": "text",
    "id": "PviI5qNYOpZf"
   },
   "source": [
    "**Compartilhamento de tempo**"
   ]
  },
  {
   "cell_type": "code",
   "execution_count": null,
   "metadata": {
    "colab": {},
    "colab_type": "code",
    "id": "R90lL9EROolp"
   },
   "outputs": [],
   "source": [
    "import threading  #módulo para a construção de multithreads\n",
    "import time  #módulo para a medição de tempo\n",
    "import random  #módulo para geração de números randomicos\n",
    "\n",
    "counter = 10   #contador inicial\n",
    "\n",
    "#função que adiciona um número para o contador\n",
    "def tarefaA():\n",
    "  global counter  #variável global \n",
    "  while counter < 30:\n",
    "    counter += 1  #incrementa o contador\n",
    "    print(\"A tarefaA incrementou o contador para {}\".format(counter))\n",
    "    sleepTime = random.randint(0,1) #escolhe, randomicamente, um valor entre 0 e 3\n",
    "    time.sleep(sleepTime) #coloca a tread para dormir\n",
    "\n",
    "#função que retira um número do contador\n",
    "def tarefaB():\n",
    "  global counter #variável global\n",
    "  while counter > -30:\n",
    "    counter -= 1  #decrementa o contador\n",
    "    print(\"A tarefaB decrementou o contador para {}\".format(counter))\n",
    "    sleepTime = random.randint(0,3) #escolhe, randomicamente, um valor entre 0 e 3\n",
    "    time.sleep(sleepTime) #coloca a tread para dormir\n",
    "\n",
    "\n",
    "t0 = time.time()\n",
    "thread1 = threading.Thread(target=tarefaA) #instancia um objeto da classe Thread para executar\n",
    "                                           #a tarefaA\n",
    "thread2 = threading.Thread(target=tarefaB) #instancia um objeto da classe Thread para executar\n",
    "                                           #a tarefaB\n",
    "\n",
    "thread1.start() #inicia a tread1\n",
    "thread2.start() #inicia thread2\n",
    "\n",
    "thread1.join()  #ceritifica o fim da execução\n",
    "thread2.join() #certifica do fim da execução\n",
    "\n",
    "t1 = time.time()\n",
    "\n",
    "print(\"Tempo total de execução {}\".format(t1-t0))"
   ]
  },
  {
   "cell_type": "markdown",
   "metadata": {
    "colab_type": "text",
    "id": "ZEv721D1A0L3"
   },
   "source": [
    "**Estados de execução de uma Thread**"
   ]
  },
  {
   "cell_type": "code",
   "execution_count": 1,
   "metadata": {
    "colab": {
     "base_uri": "https://localhost:8080/",
     "height": 119
    },
    "colab_type": "code",
    "executionInfo": {
     "elapsed": 10728,
     "status": "ok",
     "timestamp": 1597520482102,
     "user": {
      "displayName": "Tulio Philipe",
      "photoUrl": "https://lh3.googleusercontent.com/a-/AOh14GiC2kqFihAn3Ile03oz-6rO8qVjEHv1DhGQ0ngQ5g=s64",
      "userId": "06907869093485551957"
     },
     "user_tz": 180
    },
    "id": "ls7X8ruRA3cl",
    "outputId": "189306fe-cc18-4b04-bdbd-2005cedfde9f"
   },
   "outputs": [
    {
     "name": "stdout",
     "output_type": "stream",
     "text": [
      "Thread Criada\n",
      "Thread no estado 'Runnable'\n",
      "A thread entrou no estado 'Running'\n",
      "A thread entrou no estado \"Non-Running\"\n",
      "Execução da thread foi finalizada\n",
      "A thread está no estado de 'Terminated'\n"
     ]
    }
   ],
   "source": [
    "import threading\n",
    "import time\n",
    "\n",
    "# função que, simplesmente, realiza o print de uma mensagem de execução e \n",
    "def threadWorker():\n",
    "  # Neste ponto é onde ocorre a mudança do 'Runnable' para o 'Running'\n",
    "\n",
    "  print(\"A thread entrou no estado 'Running'\")\n",
    "\n",
    "  # quando chamamos a função time.sleep() a \n",
    "  #thread entra para o estado de not-running\n",
    "  print('A thread entrou no estado \"Non-Running\"')\n",
    "  time.sleep(10)\n",
    "  # quando a tarefa é finalizada, a thread é terminada \n",
    "  print(\"Execução da thread foi finalizada\")\n",
    "  #garbage collector\n",
    "\n",
    "\n",
    "\n",
    "# neste momento a threada ainda \"não possui estados\"\n",
    "#não existe alocação de recursos\n",
    "print(\"Thread Criada\")\n",
    "myThread = threading.Thread(target=threadWorker)\n",
    "\n",
    "#quando é chamado o método myThread.start(), python realiza a \n",
    "#alocação de recursos e, posteriormente, passa para o estado de\n",
    "# \"Start\" para o \"Runnable\", mas sem entrar em execução.\n",
    "print(\"Thread no estado 'Runnable'\")\n",
    "myThread.start()\n",
    "\n",
    "#quando o metodo join é chamado, a thread passa para o estado\n",
    "# \"terminated\"\n",
    "myThread.join()\n",
    "print(\"A thread está no estado de 'Terminated'\")"
   ]
  },
  {
   "cell_type": "markdown",
   "metadata": {
    "colab_type": "text",
    "id": "bI5BpEbyEvhJ"
   },
   "source": [
    "**Outro exemplo de execução de uma Thread**"
   ]
  },
  {
   "cell_type": "code",
   "execution_count": 2,
   "metadata": {
    "colab": {
     "base_uri": "https://localhost:8080/",
     "height": 547
    },
    "colab_type": "code",
    "executionInfo": {
     "elapsed": 616,
     "status": "ok",
     "timestamp": 1597520582200,
     "user": {
      "displayName": "Tulio Philipe",
      "photoUrl": "https://lh3.googleusercontent.com/a-/AOh14GiC2kqFihAn3Ile03oz-6rO8qVjEHv1DhGQ0ngQ5g=s64",
      "userId": "06907869093485551957"
     },
     "user_tz": 180
    },
    "id": "EMRp6YBvEznI",
    "outputId": "0fc252f9-dc7c-4767-db5c-085ed5b76ccd"
   },
   "outputs": [
    {
     "name": "stdout",
     "output_type": "stream",
     "text": [
      "Thread 0 incializada \n",
      "\n",
      "Número de threads ativas: [<_MainThread(MainThread, started 140017367697216)>, <Thread(Thread-2, started daemon 140017310988032)>, <Heartbeat(Thread-3, started daemon 140017302595328)>, <HistorySavingThread(IPythonHistorySavingThread, started 140017074697984)>, <ParentPollerUnix(Thread-1, started daemon 140017066305280)>, <Thread(Thread-5, started 140017057912576)>]\n",
      "Thread 1 incializada \n",
      "\n",
      "Número de threads ativas: [<_MainThread(MainThread, started 140017367697216)>, <Thread(Thread-2, started daemon 140017310988032)>, <Heartbeat(Thread-3, started daemon 140017302595328)>, <HistorySavingThread(IPythonHistorySavingThread, started 140017074697984)>, <ParentPollerUnix(Thread-1, started daemon 140017066305280)>, <Thread(Thread-5, started 140017057912576)>, <Thread(Thread-6, started 140017049519872)>]\n",
      "Thread 2 incializada \n",
      "Número de threads ativas: [<_MainThread(MainThread, started 140017367697216)>, <Thread(Thread-2, started daemon 140017310988032)>, <Heartbeat(Thread-3, started daemon 140017302595328)>, <HistorySavingThread(IPythonHistorySavingThread, started 140017074697984)>, <ParentPollerUnix(Thread-1, started daemon 140017066305280)>, <Thread(Thread-5, started 140017057912576)>, <Thread(Thread-6, started 140017049519872)>, <Thread(Thread-7, started 140017041127168)>]\n",
      "\n",
      "Thread 3 incializada \n",
      "\n",
      "Número de threads ativas: [<_MainThread(MainThread, started 140017367697216)>, <Thread(Thread-2, started daemon 140017310988032)>, <Heartbeat(Thread-3, started daemon 140017302595328)>, <HistorySavingThread(IPythonHistorySavingThread, started 140017074697984)>, <ParentPollerUnix(Thread-1, started daemon 140017066305280)>, <Thread(Thread-5, started 140017057912576)>, <Thread(Thread-6, started 140017049519872)>, <Thread(Thread-7, started 140017041127168)>, <Thread(Thread-8, started 140017032734464)>]\n",
      "Thread 4 incializada \n",
      "\n",
      "Número de threads ativas: [<_MainThread(MainThread, started 140017367697216)>, <Thread(Thread-2, started daemon 140017310988032)>, <Heartbeat(Thread-3, started daemon 140017302595328)>, <HistorySavingThread(IPythonHistorySavingThread, started 140017074697984)>, <ParentPollerUnix(Thread-1, started daemon 140017066305280)>, <Thread(Thread-5, started 140017057912576)>, <Thread(Thread-6, started 140017049519872)>, <Thread(Thread-7, started 140017041127168)>, <Thread(Thread-8, started 140017032734464)>, <Thread(Thread-9, started 140017024341760)>]\n",
      "Thread 5 incializada \n",
      "\n",
      "Número de threads ativas: [<_MainThread(MainThread, started 140017367697216)>, <Thread(Thread-2, started daemon 140017310988032)>, <Heartbeat(Thread-3, started daemon 140017302595328)>, <HistorySavingThread(IPythonHistorySavingThread, started 140017074697984)>, <ParentPollerUnix(Thread-1, started daemon 140017066305280)>, <Thread(Thread-5, started 140017057912576)>, <Thread(Thread-6, started 140017049519872)>, <Thread(Thread-7, started 140017041127168)>, <Thread(Thread-8, started 140017032734464)>, <Thread(Thread-9, started 140017024341760)>, <Thread(Thread-10, started 140016470718208)>]\n",
      "Thread 6 incializada \n",
      "Número de threads ativas: [<_MainThread(MainThread, started 140017367697216)>, <Thread(Thread-2, started daemon 140017310988032)>, <Heartbeat(Thread-3, started daemon 140017302595328)>, <HistorySavingThread(IPythonHistorySavingThread, started 140017074697984)>, <ParentPollerUnix(Thread-1, started daemon 140017066305280)>, <Thread(Thread-5, started 140017057912576)>, <Thread(Thread-6, started 140017049519872)>, <Thread(Thread-7, started 140017041127168)>, <Thread(Thread-8, started 140017032734464)>, <Thread(Thread-9, started 140017024341760)>, <Thread(Thread-10, started 140016470718208)>, <Thread(Thread-11, started 140016462325504)>]\n",
      "Thread 7 incializada \n",
      "\n",
      "Número de threads ativas: [<_MainThread(MainThread, started 140017367697216)>, <Thread(Thread-2, started daemon 140017310988032)>, <Heartbeat(Thread-3, started daemon 140017302595328)>, <HistorySavingThread(IPythonHistorySavingThread, started 140017074697984)>, <ParentPollerUnix(Thread-1, started daemon 140017066305280)>, <Thread(Thread-5, started 140017057912576)>, <Thread(Thread-6, started 140017049519872)>, <Thread(Thread-7, started 140017041127168)>, <Thread(Thread-8, started 140017032734464)>, <Thread(Thread-9, started 140017024341760)>, <Thread(Thread-10, started 140016470718208)>, <Thread(Thread-11, started 140016462325504)>, <Thread(Thread-12, started 140016453932800)>]\n",
      "\n",
      "Thread 8 incializada \n",
      "Número de threads ativas: [<_MainThread(MainThread, started 140017367697216)>, <Thread(Thread-2, started daemon 140017310988032)>, <Heartbeat(Thread-3, started daemon 140017302595328)>, <HistorySavingThread(IPythonHistorySavingThread, started 140017074697984)>, <ParentPollerUnix(Thread-1, started daemon 140017066305280)>, <Thread(Thread-5, started 140017057912576)>, <Thread(Thread-6, started 140017049519872)>, <Thread(Thread-7, started 140017041127168)>, <Thread(Thread-8, started 140017032734464)>, <Thread(Thread-9, started 140017024341760)>, <Thread(Thread-10, started 140016470718208)>, <Thread(Thread-11, started 140016462325504)>, <Thread(Thread-12, started 140016453932800)>, <Thread(Thread-13, started 140016445540096)>]\n",
      "\n",
      "Thread 9 incializada \n",
      "\n",
      "Número de threads ativas: [<_MainThread(MainThread, started 140017367697216)>, <Thread(Thread-2, started daemon 140017310988032)>, <Heartbeat(Thread-3, started daemon 140017302595328)>, <HistorySavingThread(IPythonHistorySavingThread, started 140017074697984)>, <ParentPollerUnix(Thread-1, started daemon 140017066305280)>, <Thread(Thread-5, started 140017057912576)>, <Thread(Thread-6, started 140017049519872)>, <Thread(Thread-7, started 140017041127168)>, <Thread(Thread-8, started 140017032734464)>, <Thread(Thread-9, started 140017024341760)>, <Thread(Thread-10, started 140016470718208)>, <Thread(Thread-11, started 140016462325504)>, <Thread(Thread-12, started 140016453932800)>, <Thread(Thread-13, started 140016445540096)>, <Thread(Thread-14, started 140016437147392)>]\n",
      "Thread 5 finalizou a execução\n",
      "Thread 9 finalizou a execução\n",
      "Thread 0 finalizou a execução\n",
      "Thread 2 finalizou a execução\n",
      "Thread 7 finalizou a execução\n",
      "Thread 4 finalizou a execução\n",
      "Thread 1 finalizou a execução\n",
      "Thread 3 finalizou a execução\n",
      "Thread 6 finalizou a execução\n",
      "Thread 8 finalizou a execução\n"
     ]
    }
   ],
   "source": [
    "import threading\n",
    "import time\n",
    "import random\n",
    "\n",
    "#função que recebe um número e cira uma thread\n",
    "def executeThread(i):\n",
    "  print(\"Thread {} incializada \\n\".format(i))\n",
    "  sleepTime = random.randint(1,10)\n",
    "  time.sleep(sleepTime)\n",
    "  print(\"Thread {} finalizou a execução\".format(i))\n",
    "\n",
    "for i in range(10):\n",
    "  thread = threading.Thread(target=executeThread, args=(i,))\n",
    "  thread.start()\n",
    "\n",
    "  print(\"Número de threads ativas:\" , threading.enumerate())"
   ]
  },
  {
   "cell_type": "markdown",
   "metadata": {
    "colab_type": "text",
    "id": "YJigjQKFpGqr"
   },
   "source": [
    "**Herança com Threads**"
   ]
  },
  {
   "cell_type": "code",
   "execution_count": 3,
   "metadata": {
    "colab": {
     "base_uri": "https://localhost:8080/",
     "height": 119
    },
    "colab_type": "code",
    "executionInfo": {
     "elapsed": 552,
     "status": "ok",
     "timestamp": 1597525715306,
     "user": {
      "displayName": "Tulio Philipe",
      "photoUrl": "https://lh3.googleusercontent.com/a-/AOh14GiC2kqFihAn3Ile03oz-6rO8qVjEHv1DhGQ0ngQ5g=s64",
      "userId": "06907869093485551957"
     },
     "user_tz": 180
    },
    "id": "H5zfWtzOpKFT",
    "outputId": "597fe291-193b-4515-a9f3-fb9bdd7594d1"
   },
   "outputs": [
    {
     "name": "stdout",
     "output_type": "stream",
     "text": [
      "Olá, construtor thread!!\n",
      "Objeto criado\n",
      "\n",
      "Thread em execução.\n",
      "Thread inicalizada\n",
      "Thread finalizada\n"
     ]
    }
   ],
   "source": [
    "from threading import Thread\n",
    "\n",
    "#define a classe como filha da classe Thread\n",
    "class MinhaClasseThread(Thread):\n",
    "  def __init__(self):\n",
    "    print(\"Olá, construtor thread!!\")\n",
    "    Thread.__init__(self)\n",
    "\n",
    "  #define a função run() que é chamada quando thread.start()\n",
    "  def run(self):\n",
    "    print(\"\\nThread em execução.\")\n",
    "\n",
    "#instanciando um objeto da classe criada\n",
    "minhaThread=MinhaClasseThread()\n",
    "print(\"Objeto criado\")\n",
    "minhaThread.start()\n",
    "print(\"Thread inicalizada\")\n",
    "minhaThread.join()\n",
    "print(\"Thread finalizada\")"
   ]
  },
  {
   "cell_type": "markdown",
   "metadata": {
    "colab_type": "text",
    "id": "Xai_uqZMvx-a"
   },
   "source": [
    "**Multiplas Threads**"
   ]
  },
  {
   "cell_type": "code",
   "execution_count": 1,
   "metadata": {
    "colab": {
     "base_uri": "https://localhost:8080/",
     "height": 374
    },
    "colab_type": "code",
    "executionInfo": {
     "elapsed": 534,
     "status": "ok",
     "timestamp": 1597526000492,
     "user": {
      "displayName": "Tulio Philipe",
      "photoUrl": "https://lh3.googleusercontent.com/a-/AOh14GiC2kqFihAn3Ile03oz-6rO8qVjEHv1DhGQ0ngQ5g=s64",
      "userId": "06907869093485551957"
     },
     "user_tz": 180
    },
    "id": "RUgcgZDUv1AG",
    "outputId": "a559df1e-b407-43ef-8e3b-bfee0c16ec28"
   },
   "outputs": [
    {
     "name": "stdout",
     "output_type": "stream",
     "text": [
      "Iniciando thread Thread-4 com 8 processos\n",
      "Thread Alice fazendo o processo 8\n",
      "Thread Alice fazendo o processo 7\n",
      "Thread Alice fazendo o processo 6\n",
      "Thread Alice fazendo o processo 5\n",
      "Thread Alice fazendo o processo 4\n",
      "Thread Alice fazendo o processo 3\n",
      "Thread Alice fazendo o processo 2\n",
      "Thread Alice fazendo o processo 1\n",
      "Finalizando Alice\n",
      "Iniciando thread Thread-5 com 8 processos\n",
      "Thread Bob fazendo o processo 8\n",
      "Thread Bob fazendo o processo 7\n",
      "Thread Bob fazendo o processo 6\n",
      "Thread Bob fazendo o processo 5\n",
      "Thread Bob fazendo o processo 4\n",
      "Thread Bob fazendo o processo 3\n",
      "Thread Bob fazendo o processo 2\n",
      "Thread Bob fazendo o processo 1\n",
      "Finalizando Bob\n",
      "Saindo da main\n"
     ]
    }
   ],
   "source": [
    "import threading\n",
    " \n",
    "class minhaThread (threading.Thread):\n",
    "    def __init__(self, threadID, nome, contador):\n",
    "        threading.Thread.__init__(self)\n",
    "        self.threadID = threadID\n",
    "        self.nome = nome\n",
    "        self.contador = contador\n",
    "    def run(self):\n",
    "        print(\"Iniciando thread %s com %d processos\" %(self.name,self.contador))\n",
    "        processo(self.nome, self.contador)\n",
    "        print(\"Finalizando \" + self.nome)\n",
    " \n",
    "def processo(nome, contador):\n",
    "    while contador:\n",
    "        print( \"Thread %s fazendo o processo %d\" % (nome, contador))\n",
    "        contador -= 1\n",
    " \n",
    "# Criando as threads\n",
    "thread1 = minhaThread(1, \"Alice\", 8)\n",
    "thread2 = minhaThread(2, \"Bob\", 8)\n",
    " \n",
    "# Comecando novas Threads\n",
    "thread1.start()\n",
    "thread2.start()\n",
    " \n",
    "threads = []\n",
    "threads.append(thread1)\n",
    "threads.append(thread2)\n",
    " \n",
    "for t in threads:\n",
    "    t.join()\n",
    " \n",
    "print(\"Saindo da main\")"
   ]
  },
  {
   "cell_type": "markdown",
   "metadata": {
    "colab_type": "text",
    "id": "sihVaGMQxYLE"
   },
   "source": [
    "**Contando Threads ativas**"
   ]
  },
  {
   "cell_type": "code",
   "execution_count": 2,
   "metadata": {
    "colab": {
     "base_uri": "https://localhost:8080/",
     "height": 1000
    },
    "colab_type": "code",
    "executionInfo": {
     "elapsed": 4597,
     "status": "ok",
     "timestamp": 1597526097273,
     "user": {
      "displayName": "Tulio Philipe",
      "photoUrl": "https://lh3.googleusercontent.com/a-/AOh14GiC2kqFihAn3Ile03oz-6rO8qVjEHv1DhGQ0ngQ5g=s64",
      "userId": "06907869093485551957"
     },
     "user_tz": 180
    },
    "id": "CPFSAiFhxbo5",
    "outputId": "65cae8bc-8d7f-4a35-e713-803db5bcb747"
   },
   "outputs": [
    {
     "name": "stdout",
     "output_type": "stream",
     "text": [
      "Thread 0: inicializada\n",
      "Thread 1: inicializada\n",
      "Thread 2: inicializada\n",
      "Thread 3: inicializadaThread 4: inicializada\n",
      "Thread 5: inicializada\n",
      "\n",
      "Thread 6: inicializada\n",
      "Thread 7: inicializada\n",
      "Thread 8: inicializada\n",
      "Thread 9: inicializada\n",
      "Thread 10: inicializada\n",
      "Thread 11: inicializada\n",
      "Thread 12: inicializada\n",
      "Thread 13: inicializada\n",
      "Thread 14: inicializada\n",
      "Thread 15: inicializada\n",
      "Thread 16: inicializada\n",
      "Thread 17: inicializada\n",
      "Thread 18: inicializada\n",
      "Thread 19: inicializadaThread 20: inicializada\n",
      "Thread 21: inicializada\n",
      "\n",
      "Thread 22: inicializada\n",
      "Thread 23: inicializada\n",
      "Thread 24: inicializada\n",
      "Thread 25: inicializada\n",
      "Thread 26: inicializadaThread 27: inicializada\n",
      "\n",
      "Thread 28: inicializada\n",
      "Thread 29: inicializada\n",
      "Thread 30: inicializada\n",
      "Thread 31: inicializada\n",
      "Thread 32: inicializada\n",
      "Thread 33: inicializada\n",
      "Thread 34: inicializada\n",
      "Thread 35: inicializadaThread 36: inicializada\n",
      "\n",
      "\n",
      "Thread 1: finalizada\n",
      "\n",
      "Thread 27: finalizada\n",
      "\n",
      "Thread 32: finalizada\n",
      "\n",
      "Thread 33: finalizada\n",
      "\n",
      "Thread 34: finalizada\n",
      "\n",
      "Thread 12: finalizada\n",
      "\n",
      "Thread 14: finalizada\n",
      "\n",
      "Thread 16: finalizada\n",
      "\n",
      "Thread 20: finalizada\n",
      "\n",
      "Thread 30: finalizada\n",
      "\n",
      "Thread 31: finalizada\n",
      "\n",
      "Thread 35: finalizada\n",
      "\n",
      "Thread 3: finalizada\n",
      "\n",
      "Thread 7: finalizada\n",
      "\n",
      "Thread 8: finalizada\n",
      "\n",
      "Thread 11: finalizada\n",
      "\n",
      "Thread 13: finalizada\n",
      "\n",
      "Thread 19: finalizada\n",
      "Thread 22: finalizada\n",
      "\n",
      "\n",
      "Thread 25: finalizada\n",
      "\n",
      "Thread 28: finalizada\n",
      "\n",
      "Thread 36: finalizada\n",
      "\n",
      "Thread 5: finalizada\n",
      "\n",
      "Thread 9: finalizada\n",
      "\n",
      "Thread 10: finalizada\n",
      "\n",
      "Thread 15: finalizada\n",
      "\n",
      "Thread 23: finalizada\n",
      "Thread 24: finalizada\n",
      "\n",
      "\n",
      "Thread 26: finalizada\n",
      "\n",
      "Thread 29: finalizada\n",
      "Total de Threads ativas: 12\n",
      "\n",
      "Thread 0: finalizada\n",
      "Thread 2: finalizada\n",
      "\n",
      "\n",
      "Thread 4: finalizada\n",
      "\n",
      "Thread 6: finalizada\n",
      "\n",
      "Thread 17: finalizada\n",
      "\n",
      "Thread 18: finalizada\n",
      "Thread 21: finalizada\n",
      "\n"
     ]
    }
   ],
   "source": [
    "import threading\n",
    "import time\n",
    "import random\n",
    "\n",
    "\n",
    "def minhaThread(i):\n",
    "  print(\"Thread {}: inicializada\".format(i))\n",
    "  time.sleep(random.randint(1,5))\n",
    "  print(\"\\nThread {}: finalizada\".format(i))\n",
    "\n",
    "for i in range(random.randint(2,50)):\n",
    "  thread=threading.Thread(target=minhaThread,args=(i,))\n",
    "  thread.start()\n",
    "time.sleep(4)\n",
    "print(\"Total de Threads ativas: {}\".format(threading.active_count()))"
   ]
  },
  {
   "cell_type": "markdown",
   "metadata": {
    "colab_type": "text",
    "id": "uTfSAOr0zGUG"
   },
   "source": [
    "**Em qual thread estamos?**"
   ]
  },
  {
   "cell_type": "code",
   "execution_count": 3,
   "metadata": {
    "colab": {
     "base_uri": "https://localhost:8080/",
     "height": 187
    },
    "colab_type": "code",
    "executionInfo": {
     "elapsed": 631,
     "status": "ok",
     "timestamp": 1597526158699,
     "user": {
      "displayName": "Tulio Philipe",
      "photoUrl": "https://lh3.googleusercontent.com/a-/AOh14GiC2kqFihAn3Ile03oz-6rO8qVjEHv1DhGQ0ngQ5g=s64",
      "userId": "06907869093485551957"
     },
     "user_tz": 180
    },
    "id": "WJK3Sxw9zV75",
    "outputId": "71bb8462-8735-4ef0-d201-c22053a08240"
   },
   "outputs": [
    {
     "name": "stdout",
     "output_type": "stream",
     "text": [
      "Thread atual: <Thread(Thread-43, started 139775927371520)>\n",
      "Thread atual: <Thread(Thread-44, started 139775902193408)>\n",
      "Thread atual: <Thread(Thread-45, started 139775902193408)>\n",
      "Thread atual: <Thread(Thread-46, started 139775902193408)>\n",
      "Thread atual: <Thread(Thread-47, started 139775902193408)>\n",
      "Thread atual: <Thread(Thread-48, started 139775902193408)>\n",
      "Thread atual: <Thread(Thread-49, started 139775902193408)>\n",
      "Thread atual: <Thread(Thread-50, started 139775902193408)>\n",
      "Thread atual: <Thread(Thread-51, started 139775927371520)>\n",
      "Thread atual: <Thread(Thread-52, started 139775927371520)>\n"
     ]
    }
   ],
   "source": [
    "import threading\n",
    "import time\n",
    "\n",
    "def threadTarget():\n",
    "  print(\"Thread atual: {}\".format(threading.current_thread()))\n",
    "\n",
    "threads = []\n",
    "\n",
    "for i in range(10):\n",
    "  thread = threading.Thread(target=threadTarget)\n",
    "  thread.start()\n",
    "  threads.append(thread)\n",
    "\n",
    "for thread in threads:\n",
    "  thread.join()"
   ]
  },
  {
   "cell_type": "markdown",
   "metadata": {
    "colab_type": "text",
    "id": "txQicA-J00jQ"
   },
   "source": [
    "**Main Thread**"
   ]
  },
  {
   "cell_type": "code",
   "execution_count": 4,
   "metadata": {
    "colab": {
     "base_uri": "https://localhost:8080/",
     "height": 153
    },
    "colab_type": "code",
    "executionInfo": {
     "elapsed": 5514,
     "status": "ok",
     "timestamp": 1597526195086,
     "user": {
      "displayName": "Tulio Philipe",
      "photoUrl": "https://lh3.googleusercontent.com/a-/AOh14GiC2kqFihAn3Ile03oz-6rO8qVjEHv1DhGQ0ngQ5g=s64",
      "userId": "06907869093485551957"
     },
     "user_tz": 180
    },
    "id": "RB5cC-Fbz2cS",
    "outputId": "b9527f90-fb89-4a11-acce-be10afeb2a13"
   },
   "outputs": [
    {
     "name": "stdout",
     "output_type": "stream",
     "text": [
      "Thread Filha inicializada ----\n",
      "Thread Atual ----------\n",
      "<Thread(Thread-53, started 139775927371520)>\n",
      "-------------------------\n",
      "Main Thread -------------\n",
      "<_MainThread(MainThread, started 139777687885632)>\n",
      "-------------------------\n",
      "Thread Filha Finalizada\n"
     ]
    }
   ],
   "source": [
    "import threading\n",
    "import time\n",
    "\n",
    "def myChildThread():\n",
    "  print(\"Thread Filha inicializada ----\")\n",
    "  time.sleep(5)\n",
    "  print(\"Thread Atual ----------\")\n",
    "  print(threading.current_thread())\n",
    "  print(\"-------------------------\")\n",
    "  print(\"Main Thread -------------\")\n",
    "  print(threading.main_thread())\n",
    "  print(\"-------------------------\")\n",
    "  print(\"Thread Filha Finalizada\")\n",
    "\n",
    "\n",
    "child = threading.Thread(target=myChildThread)\n",
    "child.start()\n",
    "child.join()"
   ]
  },
  {
   "cell_type": "markdown",
   "metadata": {
    "colab_type": "text",
    "id": "OYaGnqlc1jfR"
   },
   "source": [
    "**Identificando as Threads**"
   ]
  },
  {
   "cell_type": "code",
   "execution_count": 5,
   "metadata": {
    "colab": {
     "base_uri": "https://localhost:8080/",
     "height": 122
    },
    "colab_type": "code",
    "executionInfo": {
     "elapsed": 684,
     "status": "ok",
     "timestamp": 1597526235658,
     "user": {
      "displayName": "Tulio Philipe",
      "photoUrl": "https://lh3.googleusercontent.com/a-/AOh14GiC2kqFihAn3Ile03oz-6rO8qVjEHv1DhGQ0ngQ5g=s64",
      "userId": "06907869093485551957"
     },
     "user_tz": 180
    },
    "id": "h9Re7tQ91mGd",
    "outputId": "1174c99e-409e-42cd-dbea-e3493054f58e"
   },
   "outputs": [
    {
     "name": "stdout",
     "output_type": "stream",
     "text": [
      "Thread Thread-0 inicializada\n",
      "Thread Thread-1 inicializada\n",
      "Thread Thread-2 inicializada\n",
      "Thread Thread-3 inicializada\n",
      "[<_MainThread(MainThread, started 139777687885632)>, <Thread(Thread-2, started daemon 139777563162368)>, <Heartbeat(Thread-3, started daemon 139777554769664)>, <HistorySavingThread(IPythonHistorySavingThread, started 139777529591552)>, <ParentPollerUnix(Thread-1, started daemon 139777521198848)>, <Thread(Thread-0, started 139775927371520)>, <Thread(Thread-1, started 139775902193408)>, <Thread(Thread-2, started 139775935764224)>, <Thread(Thread-3, started 139776984327936)>]\n",
      "Thread Thread-0 finalizada\n",
      "Thread Thread-1 finalizada\n",
      "Thread Thread-2 finalizada\n",
      "Thread Thread-3 finalizada\n"
     ]
    }
   ],
   "source": [
    "import threading\n",
    "import time\n",
    "\n",
    "\n",
    "def myThread():\n",
    "  print(\"Thread {} inicializada\".format(threading.currentThread().getName()))\n",
    "  time.sleep(10)\n",
    "  print(\"Thread {} finalizada\".format(threading.currentThread().getName()))\n",
    "\n",
    "for i in range(4):\n",
    "  threadName = \"Thread-\" + str(i)\n",
    "  thread = threading.Thread(name=threadName, target=myThread)\n",
    "  thread.start()\n",
    "\n",
    "print(\"{}\".format(threading.enumerate()))"
   ]
  },
  {
   "cell_type": "markdown",
   "metadata": {
    "colab_type": "text",
    "id": "4TubT6mI6Ypc"
   },
   "source": [
    "**Deadlock**"
   ]
  },
  {
   "cell_type": "code",
   "execution_count": 6,
   "metadata": {
    "colab": {
     "base_uri": "https://localhost:8080/",
     "height": 714
    },
    "colab_type": "code",
    "executionInfo": {
     "elapsed": 35482,
     "status": "error",
     "timestamp": 1597524147680,
     "user": {
      "displayName": "Tulio Philipe",
      "photoUrl": "https://lh3.googleusercontent.com/a-/AOh14GiC2kqFihAn3Ile03oz-6rO8qVjEHv1DhGQ0ngQ5g=s64",
      "userId": "06907869093485551957"
     },
     "user_tz": 180
    },
    "id": "xlJV0qx36cLp",
    "outputId": "2aaa09dd-b11e-4c97-82fc-c69d3418a6ba"
   },
   "outputs": [
    {
     "name": "stdout",
     "output_type": "stream",
     "text": [
      "Kant sentou na mesa\n",
      "Aristotle sentou na mesa\n",
      "Spinoza sentou na mesa\n",
      "Marx sentou na mesa\n",
      "Russell sentou na mesa\n",
      "Kant começou a pensar\n",
      "Aristotle começou a pensar\n",
      "Spinoza começou a pensar\n",
      "Marx começou a pensar\n",
      "Russell começou a pensar\n",
      "Spinoza parou de pensar\n",
      "Kant parou de pensar\n",
      "Marx parou de pensar\n",
      "Kant pegou o garfo da esquerda.\n",
      "Kant pegou os dois garfos e começou a comer\n",
      "Aristotle parou de pensar\n",
      "Kant soltou o garfo da direita\n",
      "Kant soltou o garfo da esquerda\n",
      "Russell parou de pensar\n",
      "Spinoza pegou o garfo da esquerda.\n",
      "Aristotle pegou o garfo da esquerda.\n",
      "Kant parou de pensar\n",
      "Marx pegou o garfo da esquerda.\n",
      "Russell pegou o garfo da esquerda.\n",
      "Kant pegou o garfo da esquerda.\n"
     ]
    },
    {
     "ename": "KeyboardInterrupt",
     "evalue": "",
     "output_type": "error",
     "traceback": [
      "\u001b[0;31m---------------------------------------------------------------------------\u001b[0m",
      "\u001b[0;31mKeyboardInterrupt\u001b[0m                         Traceback (most recent call last)",
      "\u001b[0;32m<ipython-input-6-071bbbfb895e>\u001b[0m in \u001b[0;36m<module>\u001b[0;34m\u001b[0m\n\u001b[1;32m     49\u001b[0m \u001b[0mphilosopher5\u001b[0m\u001b[0;34m.\u001b[0m\u001b[0mstart\u001b[0m\u001b[0;34m(\u001b[0m\u001b[0;34m)\u001b[0m\u001b[0;34m\u001b[0m\u001b[0;34m\u001b[0m\u001b[0m\n\u001b[1;32m     50\u001b[0m \u001b[0;34m\u001b[0m\u001b[0m\n\u001b[0;32m---> 51\u001b[0;31m \u001b[0mphilosopher1\u001b[0m\u001b[0;34m.\u001b[0m\u001b[0mjoin\u001b[0m\u001b[0;34m(\u001b[0m\u001b[0;34m)\u001b[0m\u001b[0;34m\u001b[0m\u001b[0;34m\u001b[0m\u001b[0m\n\u001b[0m\u001b[1;32m     52\u001b[0m \u001b[0mphilosopher2\u001b[0m\u001b[0;34m.\u001b[0m\u001b[0mjoin\u001b[0m\u001b[0;34m(\u001b[0m\u001b[0;34m)\u001b[0m\u001b[0;34m\u001b[0m\u001b[0;34m\u001b[0m\u001b[0m\n\u001b[1;32m     53\u001b[0m \u001b[0mphilosopher3\u001b[0m\u001b[0;34m.\u001b[0m\u001b[0mjoin\u001b[0m\u001b[0;34m(\u001b[0m\u001b[0;34m)\u001b[0m\u001b[0;34m\u001b[0m\u001b[0;34m\u001b[0m\u001b[0m\n",
      "\u001b[0;32m/opt/conda/lib/python3.8/threading.py\u001b[0m in \u001b[0;36mjoin\u001b[0;34m(self, timeout)\u001b[0m\n\u001b[1;32m   1009\u001b[0m \u001b[0;34m\u001b[0m\u001b[0m\n\u001b[1;32m   1010\u001b[0m         \u001b[0;32mif\u001b[0m \u001b[0mtimeout\u001b[0m \u001b[0;32mis\u001b[0m \u001b[0;32mNone\u001b[0m\u001b[0;34m:\u001b[0m\u001b[0;34m\u001b[0m\u001b[0;34m\u001b[0m\u001b[0m\n\u001b[0;32m-> 1011\u001b[0;31m             \u001b[0mself\u001b[0m\u001b[0;34m.\u001b[0m\u001b[0m_wait_for_tstate_lock\u001b[0m\u001b[0;34m(\u001b[0m\u001b[0;34m)\u001b[0m\u001b[0;34m\u001b[0m\u001b[0;34m\u001b[0m\u001b[0m\n\u001b[0m\u001b[1;32m   1012\u001b[0m         \u001b[0;32melse\u001b[0m\u001b[0;34m:\u001b[0m\u001b[0;34m\u001b[0m\u001b[0;34m\u001b[0m\u001b[0m\n\u001b[1;32m   1013\u001b[0m             \u001b[0;31m# the behavior of a negative timeout isn't documented, but\u001b[0m\u001b[0;34m\u001b[0m\u001b[0;34m\u001b[0m\u001b[0;34m\u001b[0m\u001b[0m\n",
      "\u001b[0;32m/opt/conda/lib/python3.8/threading.py\u001b[0m in \u001b[0;36m_wait_for_tstate_lock\u001b[0;34m(self, block, timeout)\u001b[0m\n\u001b[1;32m   1025\u001b[0m         \u001b[0;32mif\u001b[0m \u001b[0mlock\u001b[0m \u001b[0;32mis\u001b[0m \u001b[0;32mNone\u001b[0m\u001b[0;34m:\u001b[0m  \u001b[0;31m# already determined that the C code is done\u001b[0m\u001b[0;34m\u001b[0m\u001b[0;34m\u001b[0m\u001b[0m\n\u001b[1;32m   1026\u001b[0m             \u001b[0;32massert\u001b[0m \u001b[0mself\u001b[0m\u001b[0;34m.\u001b[0m\u001b[0m_is_stopped\u001b[0m\u001b[0;34m\u001b[0m\u001b[0;34m\u001b[0m\u001b[0m\n\u001b[0;32m-> 1027\u001b[0;31m         \u001b[0;32melif\u001b[0m \u001b[0mlock\u001b[0m\u001b[0;34m.\u001b[0m\u001b[0macquire\u001b[0m\u001b[0;34m(\u001b[0m\u001b[0mblock\u001b[0m\u001b[0;34m,\u001b[0m \u001b[0mtimeout\u001b[0m\u001b[0;34m)\u001b[0m\u001b[0;34m:\u001b[0m\u001b[0;34m\u001b[0m\u001b[0;34m\u001b[0m\u001b[0m\n\u001b[0m\u001b[1;32m   1028\u001b[0m             \u001b[0mlock\u001b[0m\u001b[0;34m.\u001b[0m\u001b[0mrelease\u001b[0m\u001b[0;34m(\u001b[0m\u001b[0;34m)\u001b[0m\u001b[0;34m\u001b[0m\u001b[0;34m\u001b[0m\u001b[0m\n\u001b[1;32m   1029\u001b[0m             \u001b[0mself\u001b[0m\u001b[0;34m.\u001b[0m\u001b[0m_stop\u001b[0m\u001b[0;34m(\u001b[0m\u001b[0;34m)\u001b[0m\u001b[0;34m\u001b[0m\u001b[0;34m\u001b[0m\u001b[0m\n",
      "\u001b[0;31mKeyboardInterrupt\u001b[0m: "
     ]
    }
   ],
   "source": [
    "import threading\n",
    "import time\n",
    "import random\n",
    "\n",
    "class Filosofos(threading.Thread):\n",
    "\n",
    "  def __init__(self, name, leftFork, rightFork):\n",
    "    print(\"{} sentou na mesa\".format(name))\n",
    "    threading.Thread.__init__(self, name=name)\n",
    "    self.leftFork = leftFork\n",
    "    self.rightFork = rightFork\n",
    "\n",
    "  def run(self):\n",
    "    print(\"{} começou a pensar\".format(threading.currentThread().getName()))\n",
    "    while True:\n",
    "      time.sleep(random.randint(1,5))\n",
    "      print(\"{} parou de pensar\".format(threading.currentThread().getName()))\n",
    "      self.leftFork.acquire()\n",
    "      time.sleep(random.randint(1,5))\n",
    "      try:\n",
    "        print(\"{} pegou o garfo da esquerda.\".format(threading.currentThread().getName()))\n",
    "\n",
    "        self.rightFork.acquire()\n",
    "        try:\n",
    "          print(\"{} pegou os dois garfos e começou a comer\".format(threading.currentThread().getName()))\n",
    "        finally:\n",
    "          self.rightFork.release()   \n",
    "          print(\"{} soltou o garfo da direita\".format(threading.currentThread().getName()))\n",
    "      finally:\n",
    "        self.leftFork.release()\n",
    "        print(\"{} soltou o garfo da esquerda\".format(threading.currentThread().getName()))\n",
    "\n",
    "fork1 = threading.RLock()\n",
    "fork2 = threading.RLock()\n",
    "fork3 = threading.RLock()\n",
    "fork4 = threading.RLock()\n",
    "fork5 = threading.RLock()\n",
    "\n",
    "philosopher1 = Filosofos(\"Kant\", fork1, fork2)\n",
    "philosopher2 = Filosofos(\"Aristotle\", fork2, fork3)\n",
    "philosopher3 = Filosofos(\"Spinoza\", fork3, fork4)\n",
    "philosopher4 = Filosofos(\"Marx\", fork4, fork5)\n",
    "philosopher5 = Filosofos(\"Russell\", fork5, fork1)\n",
    "\n",
    "philosopher1.start()\n",
    "philosopher2.start()\n",
    "philosopher3.start()\n",
    "philosopher4.start()\n",
    "philosopher5.start()\n",
    "\n",
    "philosopher1.join()\n",
    "philosopher2.join()\n",
    "philosopher3.join()\n",
    "philosopher4.join()\n",
    "philosopher5.join()"
   ]
  },
  {
   "cell_type": "markdown",
   "metadata": {
    "colab_type": "text",
    "id": "r0E9F6W48Iud"
   },
   "source": [
    "**Semáforos**"
   ]
  },
  {
   "cell_type": "code",
   "execution_count": 7,
   "metadata": {
    "colab": {
     "base_uri": "https://localhost:8080/",
     "height": 1000
    },
    "colab_type": "code",
    "executionInfo": {
     "elapsed": 25999,
     "status": "ok",
     "timestamp": 1597524683216,
     "user": {
      "displayName": "Tulio Philipe",
      "photoUrl": "https://lh3.googleusercontent.com/a-/AOh14GiC2kqFihAn3Ile03oz-6rO8qVjEHv1DhGQ0ngQ5g=s64",
      "userId": "06907869093485551957"
     },
     "user_tz": 180
    },
    "id": "K8uG50RB-yrP",
    "outputId": "363ef48b-c83c-4821-dd52-a8e81b182bad"
   },
   "outputs": [
    {
     "name": "stdout",
     "output_type": "stream",
     "text": [
      "Venda de ingressos inicializada\n",
      "Venda de ingressos inicializada\n",
      "Venda de ingressos inicializada\n",
      "Venda de ingressos inicializada\n",
      "Thread-57 acabou de vender 1 (199 restantes)\n",
      "Thread-55 acabou de vender 1 (198 restantes)\n",
      "Thread-57 acabou de vender 1 (197 restantes)\n",
      "Thread-57 acabou de vender 1 (196 restantes)\n",
      "Thread-54 acabou de vender 1 (195 restantes)\n",
      "Thread-56 acabou de vender 1 (194 restantes)\n",
      "Thread-55 acabou de vender 1 (193 restantes)\n",
      "Thread-55 acabou de vender 1 (192 restantes)\n",
      "Thread-55 acabou de vender 1 (191 restantes)\n",
      "Thread-54 acabou de vender 1 (190 restantes)\n",
      "Thread-56 acabou de vender 1 (189 restantes)\n",
      "Thread-56 acabou de vender 1 (188 restantes)\n",
      "Thread-56 acabou de vender 1 (187 restantes)\n",
      "Thread-55 acabou de vender 1 (186 restantes)\n",
      "Thread-57 acabou de vender 1 (185 restantes)\n",
      "Thread-54 acabou de vender 1 (184 restantes)\n",
      "Thread-56 acabou de vender 1 (183 restantes)\n",
      "Thread-57 acabou de vender 1 (182 restantes)\n",
      "Thread-55 acabou de vender 1 (181 restantes)\n",
      "Thread-56 acabou de vender 1 (180 restantes)\n",
      "Thread-57 acabou de vender 1 (179 restantes)\n",
      "Thread-54 acabou de vender 1 (178 restantes)\n",
      "Thread-56 acabou de vender 1 (177 restantes)\n",
      "Thread-56 acabou de vender 1 (176 restantes)\n",
      "Thread-56 acabou de vender 1 (175 restantes)\n",
      "Thread-56 acabou de vender 1 (174 restantes)\n",
      "Thread-56 acabou de vender 1 (173 restantes)\n",
      "Thread-57 acabou de vender 1 (172 restantes)\n",
      "Thread-55 acabou de vender 1 (171 restantes)\n",
      "Thread-56 acabou de vender 1 (170 restantes)\n",
      "Thread-54 acabou de vender 1 (169 restantes)\n",
      "Thread-57 acabou de vender 1 (168 restantes)\n",
      "Thread-56 acabou de vender 1 (167 restantes)\n",
      "Thread-55 acabou de vender 1 (166 restantes)\n",
      "Thread-55 acabou de vender 1 (165 restantes)\n",
      "Thread-55 acabou de vender 1 (164 restantes)\n",
      "Thread-56 acabou de vender 1 (163 restantes)\n",
      "Thread-54 acabou de vender 1 (162 restantes)\n",
      "Thread-54 acabou de vender 1 (161 restantes)\n",
      "Thread-54 acabou de vender 1 (160 restantes)\n",
      "Thread-57 acabou de vender 1 (159 restantes)\n",
      "Thread-56 acabou de vender 1 (158 restantes)\n",
      "Thread-55 acabou de vender 1 (157 restantes)\n",
      "Thread-54 acabou de vender 1 (156 restantes)\n",
      "Thread-56 acabou de vender 1 (155 restantes)\n",
      "Thread-55 acabou de vender 1 (154 restantes)\n",
      "Thread-57 acabou de vender 1 (153 restantes)\n",
      "Thread-55 acabou de vender 1 (152 restantes)\n",
      "Thread-55 acabou de vender 1 (151 restantes)\n",
      "Thread-55 acabou de vender 1 (150 restantes)\n",
      "Thread-54 acabou de vender 1 (149 restantes)\n",
      "Thread-55 acabou de vender 1 (148 restantes)\n",
      "Thread-54 acabou de vender 1 (147 restantes)\n",
      "Thread-56 acabou de vender 1 (146 restantes)\n",
      "Thread-54 acabou de vender 1 (145 restantes)\n",
      "Thread-54 acabou de vender 1 (144 restantes)\n",
      "Thread-57 acabou de vender 1 (143 restantes)\n",
      "Thread-56 acabou de vender 1 (142 restantes)\n",
      "Thread-54 acabou de vender 1 (141 restantes)\n",
      "Thread-56 acabou de vender 1 (140 restantes)\n",
      "Thread-55 acabou de vender 1 (139 restantes)\n",
      "Thread-54 acabou de vender 1 (138 restantes)\n",
      "Thread-54 acabou de vender 1 (137 restantes)\n",
      "Thread-57 acabou de vender 1 (136 restantes)\n",
      "Thread-57 acabou de vender 1 (135 restantes)\n",
      "Thread-55 acabou de vender 1 (134 restantes)\n",
      "Thread-56 acabou de vender 1 (133 restantes)\n",
      "Thread-55 acabou de vender 1 (132 restantes)\n",
      "Thread-54 acabou de vender 1 (131 restantes)\n",
      "Thread-54 acabou de vender 1 (130 restantes)\n",
      "Thread-56 acabou de vender 1 (129 restantes)\n",
      "Thread-57 acabou de vender 1 (128 restantes)\n",
      "Thread-54 acabou de vender 1 (127 restantes)\n",
      "Thread-56 acabou de vender 1 (126 restantes)\n",
      "Thread-57 acabou de vender 1 (125 restantes)\n",
      "Thread-55 acabou de vender 1 (124 restantes)\n",
      "Thread-55 acabou de vender 1 (123 restantes)\n",
      "Thread-54 acabou de vender 1 (122 restantes)\n",
      "Thread-57 acabou de vender 1 (121 restantes)\n",
      "Thread-56 acabou de vender 1 (120 restantes)\n",
      "Thread-54 acabou de vender 1 (119 restantes)\n",
      "Thread-54 acabou de vender 1 (118 restantes)\n",
      "Thread-57 acabou de vender 1 (117 restantes)\n",
      "Thread-55 acabou de vender 1 (116 restantes)\n",
      "Thread-56 acabou de vender 1 (115 restantes)\n",
      "Thread-54 acabou de vender 1 (114 restantes)\n",
      "Thread-57 acabou de vender 1 (113 restantes)\n",
      "Thread-55 acabou de vender 1 (112 restantes)\n",
      "Thread-54 acabou de vender 1 (111 restantes)\n",
      "Thread-54 acabou de vender 1 (110 restantes)\n",
      "Thread-56 acabou de vender 1 (109 restantes)\n",
      "Thread-57 acabou de vender 1 (108 restantes)\n",
      "Thread-55 acabou de vender 1 (107 restantes)\n",
      "Thread-57 acabou de vender 1 (106 restantes)\n",
      "Thread-54 acabou de vender 1 (105 restantes)\n",
      "Thread-56 acabou de vender 1 (104 restantes)\n",
      "Thread-54 acabou de vender 1 (103 restantes)\n",
      "Thread-57 acabou de vender 1 (102 restantes)\n",
      "Thread-57 acabou de vender 1 (101 restantes)\n",
      "Thread-55 acabou de vender 1 (100 restantes)\n",
      "Thread-56 acabou de vender 1 (99 restantes)\n",
      "Thread-55 acabou de vender 1 (98 restantes)\n",
      "Thread-56 acabou de vender 1 (97 restantes)\n",
      "Thread-57 acabou de vender 1 (96 restantes)\n",
      "Thread-54 acabou de vender 1 (95 restantes)\n",
      "Thread-56 acabou de vender 1 (94 restantes)\n",
      "Thread-55 acabou de vender 1 (93 restantes)\n",
      "Thread-55 acabou de vender 1 (92 restantes)\n",
      "Thread-54 acabou de vender 1 (91 restantes)\n",
      "Thread-56 acabou de vender 1 (90 restantes)\n",
      "Thread-54 acabou de vender 1 (89 restantes)\n",
      "Thread-57 acabou de vender 1 (88 restantes)\n",
      "Thread-57 acabou de vender 1 (87 restantes)\n",
      "Thread-55 acabou de vender 1 (86 restantes)\n",
      "Thread-56 acabou de vender 1 (85 restantes)\n",
      "Thread-54 acabou de vender 1 (84 restantes)\n",
      "Thread-56 acabou de vender 1 (83 restantes)\n",
      "Thread-56 acabou de vender 1 (82 restantes)\n",
      "Thread-57 acabou de vender 1 (81 restantes)\n",
      "Thread-55 acabou de vender 1 (80 restantes)\n",
      "Thread-56 acabou de vender 1 (79 restantes)\n",
      "Thread-54 acabou de vender 1 (78 restantes)\n",
      "Thread-55 acabou de vender 1 (77 restantes)\n",
      "Thread-57 acabou de vender 1 (76 restantes)\n",
      "Thread-57 acabou de vender 1 (75 restantes)\n",
      "Thread-57 acabou de vender 1 (74 restantes)\n",
      "Thread-55 acabou de vender 1 (73 restantes)\n",
      "Thread-55 acabou de vender 1 (72 restantes)\n",
      "Thread-56 acabou de vender 1 (71 restantes)\n",
      "Thread-56 acabou de vender 1 (70 restantes)\n",
      "Thread-57 acabou de vender 1 (69 restantes)\n",
      "Thread-57 acabou de vender 1 (68 restantes)\n",
      "Thread-54 acabou de vender 1 (67 restantes)\n",
      "Thread-57 acabou de vender 1 (66 restantes)\n",
      "Thread-57 acabou de vender 1 (65 restantes)\n",
      "Thread-55 acabou de vender 1 (64 restantes)\n",
      "Thread-57 acabou de vender 1 (63 restantes)\n",
      "Thread-56 acabou de vender 1 (62 restantes)\n",
      "Thread-55 acabou de vender 1 (61 restantes)\n",
      "Thread-54 acabou de vender 1 (60 restantes)\n",
      "Thread-54 acabou de vender 1 (59 restantes)\n",
      "Thread-54 acabou de vender 1 (58 restantes)\n",
      "Thread-57 acabou de vender 1 (57 restantes)\n",
      "Thread-55 acabou de vender 1 (56 restantes)\n",
      "Thread-55 acabou de vender 1 (55 restantes)\n",
      "Thread-55 acabou de vender 1 (54 restantes)\n",
      "Thread-55 acabou de vender 1 (53 restantes)\n",
      "Thread-56 acabou de vender 1 (52 restantes)\n",
      "Thread-54 acabou de vender 1 (51 restantes)\n",
      "Thread-57 acabou de vender 1 (50 restantes)\n",
      "Thread-56 acabou de vender 1 (49 restantes)\n",
      "Thread-55 acabou de vender 1 (48 restantes)\n",
      "Thread-55 acabou de vender 1 (47 restantes)\n",
      "Thread-56 acabou de vender 1 (46 restantes)\n",
      "Thread-56 acabou de vender 1 (45 restantes)\n",
      "Thread-57 acabou de vender 1 (44 restantes)\n",
      "Thread-54 acabou de vender 1 (43 restantes)\n",
      "Thread-56 acabou de vender 1 (42 restantes)\n",
      "Thread-56 acabou de vender 1 (41 restantes)\n",
      "Thread-56 acabou de vender 1 (40 restantes)\n",
      "Thread-55 acabou de vender 1 (39 restantes)\n",
      "Thread-54 acabou de vender 1 (38 restantes)\n",
      "Thread-56 acabou de vender 1 (37 restantes)\n",
      "Thread-57 acabou de vender 1 (36 restantes)\n",
      "Thread-55 acabou de vender 1 (35 restantes)\n",
      "Thread-55 acabou de vender 1 (34 restantes)\n",
      "Thread-56 acabou de vender 1 (33 restantes)\n",
      "Thread-56 acabou de vender 1 (32 restantes)\n",
      "Thread-56 acabou de vender 1 (31 restantes)\n",
      "Thread-54 acabou de vender 1 (30 restantes)\n",
      "Thread-54 acabou de vender 1 (29 restantes)\n",
      "Thread-54 acabou de vender 1 (28 restantes)\n",
      "Thread-54 acabou de vender 1 (27 restantes)\n",
      "Thread-57 acabou de vender 1 (26 restantes)\n",
      "Thread-56 acabou de vender 1 (25 restantes)\n",
      "Thread-57 acabou de vender 1 (24 restantes)\n",
      "Thread-55 acabou de vender 1 (23 restantes)\n",
      "Thread-55 acabou de vender 1 (22 restantes)\n",
      "Thread-55 acabou de vender 1 (21 restantes)\n",
      "Thread-54 acabou de vender 1 (20 restantes)\n",
      "Thread-54 acabou de vender 1 (19 restantes)\n",
      "Thread-56 acabou de vender 1 (18 restantes)\n",
      "Thread-54 acabou de vender 1 (17 restantes)\n",
      "Thread-55 acabou de vender 1 (16 restantes)\n",
      "Thread-57 acabou de vender 1 (15 restantes)\n",
      "Thread-57 acabou de vender 1 (14 restantes)\n",
      "Thread-57 acabou de vender 1 (13 restantes)\n",
      "Thread-57 acabou de vender 1 (12 restantes)\n",
      "Thread-56 acabou de vender 1 (11 restantes)\n",
      "Thread-55 acabou de vender 1 (10 restantes)\n",
      "Thread-54 acabou de vender 1 (9 restantes)\n",
      "Thread-57 acabou de vender 1 (8 restantes)\n",
      "Thread-57 acabou de vender 1 (7 restantes)\n",
      "Thread-56 acabou de vender 1 (6 restantes)\n",
      "Thread-55 acabou de vender 1 (5 restantes)\n",
      "Thread-56 acabou de vender 1 (4 restantes)\n",
      "Thread-55 acabou de vender 1 (3 restantes)\n",
      "Thread-57 acabou de vender 1 (2 restantes)\n",
      "Thread-54 acabou de vender 1 (1 restantes)\n",
      "Thread-56 acabou de vender 1 (0 restantes)\n",
      "Venda de ingresso Thread-54 Ingressos vendidos no total 48\n",
      "Venda de ingresso Thread-55 Ingressos vendidos no total 51\n",
      "Venda de ingresso Thread-57 Ingressos vendidos no total 47\n",
      "Venda de ingresso Thread-56 Ingressos vendidos no total 54\n"
     ]
    }
   ],
   "source": [
    "import threading\n",
    "import time\n",
    "import random\n",
    "\n",
    "class TicketSeller(threading.Thread):\n",
    "  ticketsSold = 0\n",
    "\n",
    "  def __init__(self, semaphore):\n",
    "    threading.Thread.__init__(self);\n",
    "    self.sem = semaphore\n",
    "    print(\"Venda de ingressos inicializada\")\n",
    "\n",
    "  def run(self):\n",
    "    global ticketsAvailable\n",
    "    running = True\n",
    "    while running:\n",
    "      self.randomDelay()\n",
    "      \n",
    "      self.sem.acquire()\n",
    "      if(ticketsAvailable <= 0):\n",
    "        running = False\n",
    "      else:\n",
    "        self.ticketsSold = self.ticketsSold + 1\n",
    "        ticketsAvailable = ticketsAvailable - 1\n",
    "        print(\"{} acabou de vender 1 ({} restantes)\".format(self.getName(), ticketsAvailable))\n",
    "      self.sem.release()\n",
    "    print(\"Venda de ingresso {} Ingressos vendidos no total {}\".format(self.getName(), self.ticketsSold))\n",
    "\n",
    "  def randomDelay(self):\n",
    "    time.sleep(random.randint(0,4)/4)\n",
    "\n",
    "\n",
    "# definição do nosso semáforo\n",
    "semaphore = threading.Semaphore()\n",
    "# Número de ingressos disponíveis\n",
    "ticketsAvailable = 200\n",
    "\n",
    "# os nossos vendedores\n",
    "sellers = []\n",
    "for i in range(4):\n",
    "  seller = TicketSeller(semaphore)\n",
    "  seller.start()\n",
    "  sellers.append(seller)\n",
    "\n",
    "# joining all our sellers\n",
    "for seller in sellers:\n",
    "  seller.join()\n"
   ]
  },
  {
   "cell_type": "markdown",
   "metadata": {
    "colab_type": "text",
    "id": "95fwmZEhOjUc"
   },
   "source": [
    "**Queue em Python**"
   ]
  },
  {
   "cell_type": "code",
   "execution_count": 8,
   "metadata": {
    "colab": {
     "base_uri": "https://localhost:8080/",
     "height": 1000
    },
    "colab_type": "code",
    "executionInfo": {
     "elapsed": 12721,
     "status": "ok",
     "timestamp": 1597527614849,
     "user": {
      "displayName": "Tulio Philipe",
      "photoUrl": "https://lh3.googleusercontent.com/a-/AOh14GiC2kqFihAn3Ile03oz-6rO8qVjEHv1DhGQ0ngQ5g=s64",
      "userId": "06907869093485551957"
     },
     "user_tz": 180
    },
    "id": "heafwE_rOiq9",
    "outputId": "8f39742d-1e36-4ff2-a763-fc34558e7e6f"
   },
   "outputs": [
    {
     "name": "stdout",
     "output_type": "stream",
     "text": [
      "Thread: ThreadConsumidora-0 deseja obter um item da queue[tamanho atual = 0] na data = 23:11:53 \n",
      "\n",
      "Thread: ThreadConsumidora-1 deseja obter um item da queue[tamanho atual = 0] na data = 23:11:53 \n",
      "\n",
      "Thread: ThreadConsumidora-2 deseja obter um item da queue[tamanho atual = 0] na data = 23:11:53 \n",
      "\n",
      "Thread: ThreadProdutora começou a adicionar um item na queue[tamanho atual = 0] na data = 23:11:53 \n",
      "\n",
      "Thread: ThreadProdutora adicionou um item na queue[tamanho atual = 1] na data = 23:11:53 \n",
      "\n",
      "Thread: ThreadProdutora começou a adicionar um item na queue[tamanho atual = 1] na data = 23:11:53 \n",
      "\n",
      "Thread: ThreadProdutora adicionou um item na queue[tamanho atual = 2] na data = 23:11:53 \n",
      "\n",
      "Thread: ThreadProdutora começou a adicionar um item na queue[tamanho atual = 2] na data = 23:11:53 \n",
      "\n",
      "Thread: ThreadProdutora adicionou um item na queue[tamanho atual = 3] na data = 23:11:53 \n",
      "\n",
      "Thread: ThreadProdutora começou a adicionar um item na queue[tamanho atual = 3] na data = 23:11:53 \n",
      "\n",
      "Thread: ThreadProdutora adicionou um item na queue[tamanho atual = 1] na data = 23:11:53 \n",
      "\n",
      "Thread: ThreadProdutora começou a adicionar um item na queue[tamanho atual = 1] na data = 23:11:53 \n",
      "\n",
      "Thread: ThreadProdutora adicionou um item na queue[tamanho atual = 2] na data = 23:11:53 \n",
      "\n",
      "Thread: ThreadProdutora começou a adicionar um item na queue[tamanho atual = 2] na data = 23:11:53 \n",
      "\n",
      "Thread: ThreadProdutora adicionou um item na queue[tamanho atual = 3] na data = 23:11:53 \n",
      "\n",
      "Thread: ThreadProdutora começou a adicionar um item na queue[tamanho atual = 3] na data = 23:11:53 \n",
      "\n",
      "Thread: ThreadConsumidora-1 terminou de processar o item da queue[tamanho atual = 3] na data = 23:11:56 \n",
      "Thread: ThreadConsumidora-2 terminou de processar o item da queue[tamanho atual = 3] na data = 23:11:56 \n",
      "Thread: ThreadConsumidora-0 terminou de processar o item da queue[tamanho atual = 3] na data = 23:11:56 \n",
      "\n",
      "\n",
      "Thread: ThreadConsumidora-0 deseja obter um item da queue[tamanho atual = 3] na data = 23:11:56 \n",
      "\n",
      "Thread: ThreadProdutora adicionou um item na queue[tamanho atual = 3] na data = 23:11:56 \n",
      "Thread: ThreadConsumidora-1 deseja obter um item da queue[tamanho atual = 3] na data = 23:11:56 \n",
      "\n",
      "\n",
      "\n",
      "Thread: ThreadProdutora começou a adicionar um item na queue[tamanho atual = 2] na data = 23:11:56 \n",
      "\n",
      "Thread: ThreadProdutora adicionou um item na queue[tamanho atual = 3] na data = 23:11:56 \n",
      "\n",
      "Thread: ThreadProdutora começou a adicionar um item na queue[tamanho atual = 3] na data = 23:11:56 \n",
      "\n",
      "Thread: ThreadConsumidora-2 deseja obter um item da queue[tamanho atual = 3] na data = 23:11:56 \n",
      "\n",
      "Thread: ThreadProdutora adicionou um item na queue[tamanho atual = 3] na data = 23:11:56 \n",
      "\n",
      "Thread: ThreadProdutora começou a adicionar um item na queue[tamanho atual = 3] na data = 23:11:56 \n",
      "\n",
      "Thread: ThreadConsumidora-0 terminou de processar o item da queue[tamanho atual = 3] na data = 23:11:59 \n",
      "\n",
      "Thread: ThreadConsumidora-0 deseja obter um item da queue[tamanho atual = 3] na data = 23:11:59 \n",
      "\n",
      "Thread: ThreadProdutora adicionou um item na queue[tamanho atual = 3] na data = 23:11:59 \n",
      "\n",
      "Thread: ThreadConsumidora-2 terminou de processar o item da queue[tamanho atual = 3] na data = 23:11:59 \n",
      "\n",
      "Thread: ThreadConsumidora-2 deseja obter um item da queue[tamanho atual = 3] na data = 23:11:59 \n",
      "\n",
      "Thread: ThreadConsumidora-1 terminou de processar o item da queue[tamanho atual = 3] na data = 23:11:59 \n",
      "\n",
      "Thread: ThreadConsumidora-1 deseja obter um item da queue[tamanho atual = 2] na data = 23:11:59 \n",
      "\n",
      "Thread: ThreadConsumidora-0 terminou de processar o item da queue[tamanho atual = 1] na data = 23:12:02 \n",
      "\n",
      "Thread: ThreadConsumidora-0 deseja obter um item da queue[tamanho atual = 1] na data = 23:12:02 \n",
      "\n",
      "Thread: ThreadConsumidora-2 terminou de processar o item da queue[tamanho atual = 0] na data = 23:12:02 \n",
      "Thread: ThreadConsumidora-1 terminou de processar o item da queue[tamanho atual = 0] na data = 23:12:02 \n",
      "\n",
      "\n",
      "Thread: ThreadConsumidora-1 deseja obter um item da queue[tamanho atual = 0] na data = 23:12:02 \n",
      "\n",
      "Thread: ThreadConsumidora-2 deseja obter um item da queue[tamanho atual = 0] na data = 23:12:02 \n",
      "\n",
      "Thread: ThreadConsumidora-0 terminou de processar o item da queue[tamanho atual = 0] na data = 23:12:05 \n",
      "\n",
      "Thread: ThreadConsumidora-0 deseja obter um item da queue[tamanho atual = 0] na data = 23:12:05 \n",
      "\n"
     ]
    }
   ],
   "source": [
    "#código adaptado de http://www.learn4master.com/algorithms/python-queue-for-multithreading\n",
    "#  put(), get(), join() e task_done().\n",
    "import threading\n",
    "import time\n",
    "from queue import Queue \n",
    "\n",
    "def consumidor(q):\n",
    "    while(True):\n",
    "        name = threading.currentThread().getName()\n",
    "        print(\"Thread: {0} deseja obter um item da queue[tamanho atual = {1}] na data = {2} \\n\".format(name, q.qsize(), time.strftime('%H:%M:%S')))\n",
    "        item = q.get();\n",
    "        time.sleep(3)  # demora 3 segundos para adicionar um item\n",
    "        print(\"Thread: {0} terminou de processar o item da queue[tamanho atual = {1}] na data = {2} \\n\".format(name, q.qsize(), time.strftime('%H:%M:%S')))\n",
    "        q.task_done()\n",
    "\n",
    "\n",
    "def produtor(q):\n",
    "    # a thread principal vai adicionar itens para a queue\n",
    "\n",
    "    for i in range(10):\n",
    "        name = threading.currentThread().getName()\n",
    "        print(\"Thread: {0} começou a adicionar um item na queue[tamanho atual = {1}] na data = {2} \\n\".format(name, q.qsize(), time.strftime('%H:%M:%S')))\n",
    "        item = \"item-\" + str(i)\n",
    "        q.put(item)\n",
    "        print(\"Thread: {0} adicionou um item na queue[tamanho atual = {1}] na data = {2} \\n\".format(name, q.qsize(), time.strftime('%H:%M:%S')))\n",
    "\n",
    "    q.join()\n",
    "\n",
    "if __name__ == '__main__':\n",
    "    q = Queue(maxsize = 3)\n",
    "\n",
    "    threads_num = 3  # criação de 3 threads consumidoras\n",
    "    for i in range(threads_num):\n",
    "        t = threading.Thread(name = \"ThreadConsumidora-\"+str(i), target=consumidor, args=(q,))\n",
    "        t.start()\n",
    "\n",
    "    # criação de uma thread produtora\n",
    "    t = threading.Thread(name = \"ThreadProdutora\", target=produtor, args=(q,))\n",
    "    t.start()\n",
    "\n",
    "    q.join()\n",
    "\n"
   ]
  },
  {
   "cell_type": "code",
   "execution_count": null,
   "metadata": {},
   "outputs": [],
   "source": []
  }
 ],
 "metadata": {
  "colab": {
   "authorship_tag": "ABX9TyMg5vu9vPxal3U505flUDFw",
   "collapsed_sections": [],
   "name": "concorrencia.ipynb",
   "provenance": []
  },
  "kernelspec": {
   "display_name": "Python 3",
   "language": "python",
   "name": "python3"
  },
  "language_info": {
   "codemirror_mode": {
    "name": "ipython",
    "version": 3
   },
   "file_extension": ".py",
   "mimetype": "text/x-python",
   "name": "python",
   "nbconvert_exporter": "python",
   "pygments_lexer": "ipython3",
   "version": "3.8.3"
  }
 },
 "nbformat": 4,
 "nbformat_minor": 4
}
